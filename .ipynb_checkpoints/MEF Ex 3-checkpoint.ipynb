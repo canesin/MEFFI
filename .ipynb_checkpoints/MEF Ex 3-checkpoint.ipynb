{
 "metadata": {
  "name": "",
  "signature": "sha256:214b841c063479df74cc7afbc5be02218862d0f66c2f9dcbb432d956ba063a18"
 },
 "nbformat": 3,
 "nbformat_minor": 0,
 "worksheets": [
  {
   "cells": [
    {
     "cell_type": "markdown",
     "metadata": {},
     "source": [
      "### F\u00e1bio C\u00e9sar Canesin\n",
      "Exerc\u00edcio IV, lista 1 - Caso com convec\u00e7\u00e3o-difus\u00e3o-rea\u00e7\u00e3o unidimensional"
     ]
    },
    {
     "cell_type": "code",
     "collapsed": false,
     "input": [
      "from sympy import *\n",
      "from sympy.abc import *\n",
      "from sympy.interactive import printing\n",
      "import matplotlib.pyplot as plt\n",
      "\n",
      "printing.init_printing()\n",
      "\n",
      "u = Function('u', real=True)\n",
      "epsilon, sigma = symbols('epsilon sigma', real=True)\n",
      "\n",
      "%matplotlib inline"
     ],
     "language": "python",
     "metadata": {},
     "outputs": [],
     "prompt_number": 2
    },
    {
     "cell_type": "markdown",
     "metadata": {},
     "source": [
      "#### Fun\u00e7\u00f5es de interpola\u00e7\u00e3o"
     ]
    },
    {
     "cell_type": "code",
     "collapsed": false,
     "input": [
      "N1 = Rational(1,2)*epsilon*(epsilon -1)\n",
      "N2 = 1 - epsilon**2\n",
      "N3 = Rational(1,2)*epsilon*(epsilon +1)"
     ],
     "language": "python",
     "metadata": {},
     "outputs": [],
     "prompt_number": 3
    },
    {
     "cell_type": "code",
     "collapsed": false,
     "input": [
      "I1 = Integral(N1, (epsilon, -1, 1))\n",
      "I1"
     ],
     "language": "python",
     "metadata": {},
     "outputs": [
      {
       "latex": [
        "$$\\int_{-1}^{1} \\frac{\\epsilon}{2} \\left(\\epsilon - 1\\right)\\, d\\epsilon$$"
       ],
       "metadata": {},
       "output_type": "pyout",
       "png": "[encoded data removed]",
       "prompt_number": 7,
       "text": [
        "1              \n",
        "\u2320              \n",
        "\u23ae  \u03b5\u22c5(\u03b5 - 1)   \n",
        "\u23ae  \u2500\u2500\u2500\u2500\u2500\u2500\u2500\u2500\u2500 d\u03b5\n",
        "\u23ae      2       \n",
        "\u2321              \n",
        "-1             "
       ]
      }
     ],
     "prompt_number": 7
    },
    {
     "cell_type": "code",
     "collapsed": false,
     "input": [
      "I1.doit()"
     ],
     "language": "python",
     "metadata": {},
     "outputs": [
      {
       "latex": [
        "$$\\frac{1}{3}$$"
       ],
       "metadata": {},
       "output_type": "pyout",
       "png": "[encoded data removed]",
       "prompt_number": 8,
       "text": [
        "1/3"
       ]
      }
     ],
     "prompt_number": 8
    },
    {
     "cell_type": "code",
     "collapsed": false,
     "input": [
      "I2 = Integral(N2, (epsilon, -1, 1))\n",
      "I2"
     ],
     "language": "python",
     "metadata": {},
     "outputs": [
      {
       "latex": [
        "$$\\int_{-1}^{1} - \\epsilon^{2} + 1\\, d\\epsilon$$"
       ],
       "metadata": {},
       "output_type": "pyout",
       "png": "[encoded data removed]",
       "prompt_number": 9,
       "text": [
        "1               \n",
        "\u2320               \n",
        "\u23ae  \u239b   2    \u239e   \n",
        "\u23ae  \u239d- \u03b5  + 1\u23a0 d\u03b5\n",
        "\u2321               \n",
        "-1              "
       ]
      }
     ],
     "prompt_number": 9
    },
    {
     "cell_type": "code",
     "collapsed": false,
     "input": [
      "I2.doit()"
     ],
     "language": "python",
     "metadata": {},
     "outputs": [
      {
       "latex": [
        "$$\\frac{4}{3}$$"
       ],
       "metadata": {},
       "output_type": "pyout",
       "png": "[encoded data removed]",
       "prompt_number": 10,
       "text": [
        "4/3"
       ]
      }
     ],
     "prompt_number": 10
    },
    {
     "cell_type": "code",
     "collapsed": false,
     "input": [
      "I3 = Integral(N3, (epsilon, -1, 1))\n",
      "I3"
     ],
     "language": "python",
     "metadata": {},
     "outputs": [
      {
       "latex": [
        "$$\\int_{-1}^{1} \\frac{\\epsilon}{2} \\left(\\epsilon + 1\\right)\\, d\\epsilon$$"
       ],
       "metadata": {},
       "output_type": "pyout",
       "png": "[encoded data removed]",
       "prompt_number": 11,
       "text": [
        "1              \n",
        "\u2320              \n",
        "\u23ae  \u03b5\u22c5(\u03b5 + 1)   \n",
        "\u23ae  \u2500\u2500\u2500\u2500\u2500\u2500\u2500\u2500\u2500 d\u03b5\n",
        "\u23ae      2       \n",
        "\u2321              \n",
        "-1             "
       ]
      }
     ],
     "prompt_number": 11
    },
    {
     "cell_type": "code",
     "collapsed": false,
     "input": [
      "I3.doit()"
     ],
     "language": "python",
     "metadata": {},
     "outputs": [
      {
       "latex": [
        "$$\\frac{1}{3}$$"
       ],
       "metadata": {},
       "output_type": "pyout",
       "png": "[encoded data removed]",
       "prompt_number": 12,
       "text": [
        "1/3"
       ]
      }
     ],
     "prompt_number": 12
    },
    {
     "cell_type": "code",
     "collapsed": false,
     "input": [],
     "language": "python",
     "metadata": {},
     "outputs": []
    }
   ],
   "metadata": {}
  }
 ]
}