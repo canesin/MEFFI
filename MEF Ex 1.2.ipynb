{
 "metadata": {
  "name": "",
  "signature": "sha256:5c9ab7c4563e5d76700f07234d200242548341bbbbec97d82d2bd583b6a8851d"
 },
 "nbformat": 3,
 "nbformat_minor": 0,
 "worksheets": [
  {
   "cells": [
    {
     "cell_type": "code",
     "collapsed": false,
     "input": [
      "from sympy import *\n",
      "from sympy.abc import *\n",
      "from sympy.interactive import printing\n",
      "\n",
      "printing.init_printing()\n",
      "\n",
      "u = Function('u')\n",
      "\n",
      "%matplotlib inline"
     ],
     "language": "python",
     "metadata": {},
     "outputs": [],
     "prompt_number": 128
    },
    {
     "cell_type": "markdown",
     "metadata": {},
     "source": [
      "### Solu\u00e7\u00e3o anal\u00edtica "
     ]
    },
    {
     "cell_type": "code",
     "collapsed": false,
     "input": [
      "f = u(x).diff(x,2) + u(x) + 1\n",
      "Eq(f)"
     ],
     "language": "python",
     "metadata": {},
     "outputs": [
      {
       "latex": [
        "$$u{\\left (x \\right )} + \\frac{d^{2}}{d x^{2}}  u{\\left (x \\right )} + 1 = 0$$"
       ],
       "metadata": {},
       "output_type": "pyout",
       "png": "[encoded data removed]",
       "prompt_number": 129,
       "text": [
        "         2              \n",
        "        d               \n",
        "u(x) + \u2500\u2500\u2500(u(x)) + 1 = 0\n",
        "         2              \n",
        "       dx               "
       ]
      }
     ],
     "prompt_number": 129
    },
    {
     "cell_type": "code",
     "collapsed": false,
     "input": [
      "solution = dsolve(Eq(f))\n",
      "solution.rhs"
     ],
     "language": "python",
     "metadata": {},
     "outputs": [
      {
       "latex": [
        "$$C_{1} \\sin{\\left (x \\right )} + C_{2} \\cos{\\left (x \\right )} - 1$$"
       ],
       "metadata": {},
       "output_type": "pyout",
       "png": "[encoded data removed]",
       "prompt_number": 130,
       "text": [
        "C\u2081\u22c5sin(x) + C\u2082\u22c5cos(x) - 1"
       ]
      }
     ],
     "prompt_number": 130
    },
    {
     "cell_type": "code",
     "collapsed": false,
     "input": [
      "system = [Eq(solution.rhs.diff(x).subs(x, 1), -solution.rhs.subs(x, 1)), Eq(solution.rhs.subs(x, 0))]\n",
      "system"
     ],
     "language": "python",
     "metadata": {},
     "outputs": [
      {
       "latex": [
        "$$\\begin{bmatrix}C_{1} \\cos{\\left (1 \\right )} - C_{2} \\sin{\\left (1 \\right )} = - C_{1} \\sin{\\left (1 \\right )} - C_{2} \\cos{\\left (1 \\right )} + 1, & C_{2} - 1 = 0\\end{bmatrix}$$"
       ],
       "metadata": {},
       "output_type": "pyout",
       "prompt_number": 131,
       "text": [
        "[C\u2081\u22c5cos(1) - C\u2082\u22c5sin(1) = -C\u2081\u22c5sin(1) - C\u2082\u22c5cos(1) + 1, C\u2082 - 1 = 0]"
       ]
      }
     ],
     "prompt_number": 131
    },
    {
     "cell_type": "code",
     "collapsed": false,
     "input": [
      "cts = solve(system)\n",
      "cts"
     ],
     "language": "python",
     "metadata": {},
     "outputs": [
      {
       "latex": [
        "$$\\begin{Bmatrix}C_{1} : \\frac{\\sqrt{2} \\left(- \\sqrt{2} \\cos{\\left (\\frac{\\pi}{4} + 1 \\right )} + 1\\right)}{2 \\sin{\\left (\\frac{\\pi}{4} + 1 \\right )}}, & C_{2} : 1\\end{Bmatrix}$$"
       ],
       "metadata": {},
       "output_type": "pyout",
       "prompt_number": 132,
       "text": [
        "\u23a7      ___ \u239b    ___    \u239b\u03c0    \u239e    \u239e       \u23ab\n",
        "\u23aa    \u2572\u2571 2 \u22c5\u239c- \u2572\u2571 2 \u22c5cos\u239c\u2500 + 1\u239f + 1\u239f       \u23aa\n",
        "\u23aa          \u239d           \u239d4    \u23a0    \u23a0       \u23aa\n",
        "\u23a8C\u2081: \u2500\u2500\u2500\u2500\u2500\u2500\u2500\u2500\u2500\u2500\u2500\u2500\u2500\u2500\u2500\u2500\u2500\u2500\u2500\u2500\u2500\u2500\u2500\u2500\u2500\u2500\u2500\u2500\u2500\u2500, C\u2082: 1\u23ac\n",
        "\u23aa                  \u239b\u03c0    \u239e                \u23aa\n",
        "\u23aa             2\u22c5sin\u239c\u2500 + 1\u239f                \u23aa\n",
        "\u23a9                  \u239d4    \u23a0                \u23ad"
       ]
      }
     ],
     "prompt_number": 132
    },
    {
     "cell_type": "code",
     "collapsed": false,
     "input": [
      "Uf = solution.rhs.subs(cts)\n",
      "Uf"
     ],
     "language": "python",
     "metadata": {},
     "outputs": [
      {
       "latex": [
        "$$\\frac{\\sqrt{2} \\sin{\\left (x \\right )}}{2 \\sin{\\left (\\frac{\\pi}{4} + 1 \\right )}} \\left(- \\sqrt{2} \\cos{\\left (\\frac{\\pi}{4} + 1 \\right )} + 1\\right) + \\cos{\\left (x \\right )} - 1$$"
       ],
       "metadata": {},
       "output_type": "pyout",
       "png": "[encoded data removed]",
       "prompt_number": 133,
       "text": [
        "  ___ \u239b    ___    \u239b\u03c0    \u239e    \u239e                    \n",
        "\u2572\u2571 2 \u22c5\u239c- \u2572\u2571 2 \u22c5cos\u239c\u2500 + 1\u239f + 1\u239f\u22c5sin(x)             \n",
        "      \u239d           \u239d4    \u23a0    \u23a0                    \n",
        "\u2500\u2500\u2500\u2500\u2500\u2500\u2500\u2500\u2500\u2500\u2500\u2500\u2500\u2500\u2500\u2500\u2500\u2500\u2500\u2500\u2500\u2500\u2500\u2500\u2500\u2500\u2500\u2500\u2500\u2500\u2500\u2500\u2500\u2500\u2500\u2500\u2500 + cos(x) - 1\n",
        "                  \u239b\u03c0    \u239e                         \n",
        "             2\u22c5sin\u239c\u2500 + 1\u239f                         \n",
        "                  \u239d4    \u23a0                         "
       ]
      }
     ],
     "prompt_number": 133
    },
    {
     "cell_type": "code",
     "collapsed": false,
     "input": [
      "plot(Uf, (x, 0, 1))"
     ],
     "language": "python",
     "metadata": {},
     "outputs": [
      {
       "metadata": {},
       "output_type": "display_data",
       "png": "[encoded data removed]",
       "text": [
        "<matplotlib.figure.Figure at 0xd43df28>"
       ]
      },
      {
       "metadata": {},
       "output_type": "pyout",
       "prompt_number": 134,
       "text": [
        "<sympy.plotting.plot.Plot at 0xcf9b5c0>"
       ]
      }
     ],
     "prompt_number": 134
    },
    {
     "cell_type": "code",
     "collapsed": false,
     "input": [
      "Uf.diff(x).subs(x, 1).evalf() + Uf.subs(x, 1).evalf()"
     ],
     "language": "python",
     "metadata": {},
     "outputs": [
      {
       "latex": [
        "$$0$$"
       ],
       "metadata": {},
       "output_type": "pyout",
       "png": "[encoded data removed]",
       "prompt_number": 135,
       "text": [
        "0"
       ]
      }
     ],
     "prompt_number": 135
    },
    {
     "cell_type": "code",
     "collapsed": false,
     "input": [
      "d1 = Uf.subs(x, Rational(1, 3)).evalf()\n",
      "d2 = Uf.subs(x, Rational(2, 3)).evalf()\n",
      "d3 = Uf.subs(x, Rational(3, 3)).evalf()\n",
      "D = Matrix([d1, d2, d3])\n",
      "D"
     ],
     "language": "python",
     "metadata": {},
     "outputs": [
      {
       "latex": [
        "$$\\left[\\begin{matrix}0.253065008801639\\\\0.368184968502094\\\\0.332686770857289\\end{matrix}\\right]$$"
       ],
       "metadata": {},
       "output_type": "pyout",
       "prompt_number": 136,
       "text": [
        "\u23a10.253065008801639\u23a4\n",
        "\u23a2                 \u23a5\n",
        "\u23a20.368184968502094\u23a5\n",
        "\u23a2                 \u23a5\n",
        "\u23a30.332686770857289\u23a6"
       ]
      }
     ],
     "prompt_number": 136
    },
    {
     "cell_type": "markdown",
     "metadata": {},
     "source": [
      "### Elementos finitos"
     ]
    },
    {
     "cell_type": "code",
     "collapsed": false,
     "input": [
      "N1 = Piecewise((3*x, x <= Rational(1, 3)), (2 - 3*x, x <= Rational(2, 3)), (0, True))\n",
      "N2 = Piecewise((0, x <= Rational(1, 3)), (3*x - 1, x <= Rational(2, 3)), (3 - 3*x, x <= Rational(3, 3)), (0, True))\n",
      "N3 = Piecewise((3*x - 2, x >= Rational(2, 3)), (0, True))\n",
      "N1"
     ],
     "language": "python",
     "metadata": {},
     "outputs": [
      {
       "latex": [
        "$$\\begin{cases} 3 x & \\text{for}\\: x \\leq \\frac{1}{3} \\\\- 3 x + 2 & \\text{for}\\: x \\leq \\frac{2}{3} \\\\0 & \\text{otherwise} \\end{cases}$$"
       ],
       "metadata": {},
       "output_type": "pyout",
       "prompt_number": 137,
       "text": [
        "\u23a7  3\u22c5x     for x \u2264 1/3\n",
        "\u23aa                     \n",
        "\u23a8-3\u22c5x + 2  for x \u2264 2/3\n",
        "\u23aa                     \n",
        "\u23a9   0       otherwise "
       ]
      }
     ],
     "prompt_number": 137
    },
    {
     "cell_type": "code",
     "collapsed": false,
     "input": [
      "N2"
     ],
     "language": "python",
     "metadata": {},
     "outputs": [
      {
       "latex": [
        "$$\\begin{cases} 0 & \\text{for}\\: x \\leq \\frac{1}{3} \\\\3 x - 1 & \\text{for}\\: x \\leq \\frac{2}{3} \\\\- 3 x + 3 & \\text{for}\\: x \\leq 1 \\\\0 & \\text{otherwise} \\end{cases}$$"
       ],
       "metadata": {},
       "output_type": "pyout",
       "prompt_number": 138,
       "text": [
        "\u23a7   0      for x \u2264 1/3\n",
        "\u23aa                     \n",
        "\u23aa3\u22c5x - 1   for x \u2264 2/3\n",
        "\u23a8                     \n",
        "\u23aa-3\u22c5x + 3   for x \u2264 1 \n",
        "\u23aa                     \n",
        "\u23a9   0       otherwise "
       ]
      }
     ],
     "prompt_number": 138
    },
    {
     "cell_type": "code",
     "collapsed": false,
     "input": [
      "N3"
     ],
     "language": "python",
     "metadata": {},
     "outputs": [
      {
       "latex": [
        "$$\\begin{cases} 3 x - 2 & \\text{for}\\: x \\geq \\frac{2}{3} \\\\0 & \\text{otherwise} \\end{cases}$$"
       ],
       "metadata": {},
       "output_type": "pyout",
       "prompt_number": 139,
       "text": [
        "\u23a73\u22c5x - 2  for x \u2265 2/3\n",
        "\u23a8                    \n",
        "\u23a9   0      otherwise "
       ]
      }
     ],
     "prompt_number": 139
    },
    {
     "cell_type": "code",
     "collapsed": false,
     "input": [
      "K11 = integrate(N1.diff(x)*N1.diff(x), (x, 0, 1)) - integrate(N1*N1, (x, 0, 1)) + N1.subs(x, 1)*N1.subs(x, 1)\n",
      "K11.evalf()"
     ],
     "language": "python",
     "metadata": {},
     "outputs": [
      {
       "latex": [
        "$$5.77777777777778$$"
       ],
       "metadata": {},
       "output_type": "pyout",
       "png": "[encoded data removed]",
       "prompt_number": 140,
       "text": [
        "5.77777777777778"
       ]
      }
     ],
     "prompt_number": 140
    },
    {
     "cell_type": "code",
     "collapsed": false,
     "input": [
      "K12 = integrate(N1.diff(x)*N2.diff(x), (x, 0, 1)) - integrate(N1*N2, (x, 0, 1)) + N1.subs(x, 1)*N2.subs(x, 1)\n",
      "K12.evalf()"
     ],
     "language": "python",
     "metadata": {},
     "outputs": [
      {
       "latex": [
        "$$-3.05555555555556$$"
       ],
       "metadata": {},
       "output_type": "pyout",
       "png": "[encoded data removed]",
       "prompt_number": 141,
       "text": [
        "-3.05555555555556"
       ]
      }
     ],
     "prompt_number": 141
    },
    {
     "cell_type": "code",
     "collapsed": false,
     "input": [
      "K13 = 0\n",
      "K13"
     ],
     "language": "python",
     "metadata": {},
     "outputs": [
      {
       "latex": [
        "$$0$$"
       ],
       "metadata": {},
       "output_type": "pyout",
       "png": "[encoded data removed]",
       "prompt_number": 142,
       "text": [
        "0"
       ]
      }
     ],
     "prompt_number": 142
    },
    {
     "cell_type": "code",
     "collapsed": false,
     "input": [
      "K22 = integrate(N2.diff(x)*N2.diff(x), (x, 0, 1)) - integrate(N2*N2, (x, 0, 1)) + N2.subs(x, 1)*N2.subs(x, 1)\n",
      "K22.evalf()"
     ],
     "language": "python",
     "metadata": {},
     "outputs": [
      {
       "latex": [
        "$$5.77777777777778$$"
       ],
       "metadata": {},
       "output_type": "pyout",
       "png": "[encoded data removed]",
       "prompt_number": 143,
       "text": [
        "5.77777777777778"
       ]
      }
     ],
     "prompt_number": 143
    },
    {
     "cell_type": "code",
     "collapsed": false,
     "input": [
      "K23 = K12\n",
      "K23.evalf()"
     ],
     "language": "python",
     "metadata": {},
     "outputs": [
      {
       "latex": [
        "$$-3.05555555555556$$"
       ],
       "metadata": {},
       "output_type": "pyout",
       "png": "[encoded data removed]",
       "prompt_number": 144,
       "text": [
        "-3.05555555555556"
       ]
      }
     ],
     "prompt_number": 144
    },
    {
     "cell_type": "code",
     "collapsed": false,
     "input": [
      "K33 = integrate(N3.diff(x)*N3.diff(x), (x, 0, 1)) - integrate(N3*N3, (x, 0, 1)) + N3.subs(x, 1)*N3.subs(x, 1)\n",
      "K33.evalf()"
     ],
     "language": "python",
     "metadata": {},
     "outputs": [
      {
       "latex": [
        "$$3.88888888888889$$"
       ],
       "metadata": {},
       "output_type": "pyout",
       "png": "[encoded data removed]",
       "prompt_number": 145,
       "text": [
        "3.88888888888889"
       ]
      }
     ],
     "prompt_number": 145
    },
    {
     "cell_type": "code",
     "collapsed": false,
     "input": [
      "K = Matrix([[K11, K12, K13], [K12, K22, K23], [K13, K23, K33]])\n",
      "K"
     ],
     "language": "python",
     "metadata": {},
     "outputs": [
      {
       "output_type": "stream",
       "stream": "stderr",
       "text": [
        "D:\\Anaconda\\lib\\site-packages\\IPython\\core\\formatters.py:239: FormatterWarning: Exception in image/png formatter: \n",
        "\\left[\\begin{smallmatrix}\\frac{52}{9} & - \\frac{55}{18} & 0\\\\- \\frac{55}{18} & \\frac{52}{9} & - \\frac{55}{18}\\\\0 & - \\frac{55}{18} & \\frac{35}{9}\\end{smallmatrix}\\right]\n",
        "      ^\n",
        "Expected \"\\right\" (at char 6), (line:1, col:7)\n",
        "  FormatterWarning,\n"
       ]
      },
      {
       "latex": [
        "$$\\left[\\begin{matrix}\\frac{52}{9} & - \\frac{55}{18} & 0\\\\- \\frac{55}{18} & \\frac{52}{9} & - \\frac{55}{18}\\\\0 & - \\frac{55}{18} & \\frac{35}{9}\\end{matrix}\\right]$$"
       ],
       "metadata": {},
       "output_type": "pyout",
       "prompt_number": 146,
       "text": [
        "\u23a1      -55       \u23a4\n",
        "\u23a252/9  \u2500\u2500\u2500\u2500   0  \u23a5\n",
        "\u23a2       18       \u23a5\n",
        "\u23a2                \u23a5\n",
        "\u23a2-55         -55 \u23a5\n",
        "\u23a2\u2500\u2500\u2500\u2500  52/9  \u2500\u2500\u2500\u2500\u23a5\n",
        "\u23a2 18          18 \u23a5\n",
        "\u23a2                \u23a5\n",
        "\u23a2      -55       \u23a5\n",
        "\u23a2 0    \u2500\u2500\u2500\u2500  35/9\u23a5\n",
        "\u23a3       18       \u23a6"
       ]
      }
     ],
     "prompt_number": 146
    },
    {
     "cell_type": "code",
     "collapsed": false,
     "input": [
      "F1 = integrate(N1, (x, 0, 1))\n",
      "F1"
     ],
     "language": "python",
     "metadata": {},
     "outputs": [
      {
       "latex": [
        "$$\\frac{1}{3}$$"
       ],
       "metadata": {},
       "output_type": "pyout",
       "png": "[encoded data removed]",
       "prompt_number": 147,
       "text": [
        "1/3"
       ]
      }
     ],
     "prompt_number": 147
    },
    {
     "cell_type": "code",
     "collapsed": false,
     "input": [
      "F2 = integrate(N2, (x, 0, 1))\n",
      "F2"
     ],
     "language": "python",
     "metadata": {},
     "outputs": [
      {
       "latex": [
        "$$\\frac{1}{3}$$"
       ],
       "metadata": {},
       "output_type": "pyout",
       "png": "[encoded data removed]",
       "prompt_number": 148,
       "text": [
        "1/3"
       ]
      }
     ],
     "prompt_number": 148
    },
    {
     "cell_type": "code",
     "collapsed": false,
     "input": [
      "F3 = integrate(N3, (x, 0, 1))\n",
      "F3"
     ],
     "language": "python",
     "metadata": {},
     "outputs": [
      {
       "latex": [
        "$$\\frac{1}{6}$$"
       ],
       "metadata": {},
       "output_type": "pyout",
       "png": "[encoded data removed]",
       "prompt_number": 149,
       "text": [
        "1/6"
       ]
      }
     ],
     "prompt_number": 149
    },
    {
     "cell_type": "code",
     "collapsed": false,
     "input": [
      "F = Matrix([F1, F2, F3])\n",
      "F"
     ],
     "language": "python",
     "metadata": {},
     "outputs": [
      {
       "latex": [
        "$$\\left[\\begin{matrix}\\frac{1}{3}\\\\\\frac{1}{3}\\\\\\frac{1}{6}\\end{matrix}\\right]$$"
       ],
       "metadata": {},
       "output_type": "pyout",
       "prompt_number": 150,
       "text": [
        "\u23a11/3\u23a4\n",
        "\u23a2   \u23a5\n",
        "\u23a21/3\u23a5\n",
        "\u23a2   \u23a5\n",
        "\u23a31/6\u23a6"
       ]
      }
     ],
     "prompt_number": 150
    },
    {
     "cell_type": "code",
     "collapsed": false,
     "input": [
      "Dfem = K.solve(F)\n",
      "Dfem.evalf()"
     ],
     "language": "python",
     "metadata": {},
     "outputs": [
      {
       "output_type": "stream",
       "stream": "stderr",
       "text": [
        "D:\\Anaconda\\lib\\site-packages\\IPython\\core\\formatters.py:239: FormatterWarning: Exception in image/png formatter: \n",
        "\\left[\\begin{smallmatrix}0.250054166486112\\\\0.363738787537375\\\\0.328651904493652\\end{smallmatrix}\\right]\n",
        "      ^\n",
        "Expected \"\\right\" (at char 6), (line:1, col:7)\n",
        "  FormatterWarning,\n"
       ]
      },
      {
       "latex": [
        "$$\\left[\\begin{matrix}0.250054166486112\\\\0.363738787537375\\\\0.328651904493652\\end{matrix}\\right]$$"
       ],
       "metadata": {},
       "output_type": "pyout",
       "prompt_number": 151,
       "text": [
        "\u23a10.250054166486112\u23a4\n",
        "\u23a2                 \u23a5\n",
        "\u23a20.363738787537375\u23a5\n",
        "\u23a2                 \u23a5\n",
        "\u23a30.328651904493652\u23a6"
       ]
      }
     ],
     "prompt_number": 151
    },
    {
     "cell_type": "code",
     "collapsed": false,
     "input": [
      "D"
     ],
     "language": "python",
     "metadata": {},
     "outputs": [
      {
       "latex": [
        "$$\\left[\\begin{matrix}0.253065008801639\\\\0.368184968502094\\\\0.332686770857289\\end{matrix}\\right]$$"
       ],
       "metadata": {},
       "output_type": "pyout",
       "prompt_number": 152,
       "text": [
        "\u23a10.253065008801639\u23a4\n",
        "\u23a2                 \u23a5\n",
        "\u23a20.368184968502094\u23a5\n",
        "\u23a2                 \u23a5\n",
        "\u23a30.332686770857289\u23a6"
       ]
      }
     ],
     "prompt_number": 152
    },
    {
     "cell_type": "code",
     "collapsed": false,
     "input": [
      "Dfem - D"
     ],
     "language": "python",
     "metadata": {},
     "outputs": [
      {
       "output_type": "stream",
       "stream": "stderr",
       "text": [
        "D:\\Anaconda\\lib\\site-packages\\IPython\\core\\formatters.py:239: FormatterWarning: Exception in image/png formatter: \n",
        "\\left[\\begin{smallmatrix}-0.00301084231552745\\\\-0.00444618096471877\\\\-0.00403486636363704\\end{smallmatrix}\\right]\n",
        "      ^\n",
        "Expected \"\\right\" (at char 6), (line:1, col:7)\n",
        "  FormatterWarning,\n"
       ]
      },
      {
       "latex": [
        "$$\\left[\\begin{matrix}-0.00301084231552745\\\\-0.00444618096471877\\\\-0.00403486636363704\\end{matrix}\\right]$$"
       ],
       "metadata": {},
       "output_type": "pyout",
       "prompt_number": 160,
       "text": [
        "\u23a1-0.00301084231552745\u23a4\n",
        "\u23a2                    \u23a5\n",
        "\u23a2-0.00444618096471877\u23a5\n",
        "\u23a2                    \u23a5\n",
        "\u23a3-0.00403486636363704\u23a6"
       ]
      }
     ],
     "prompt_number": 160
    },
    {
     "cell_type": "code",
     "collapsed": false,
     "input": [
      "integrate(-9, (x, Rational(2, 3), 1)) - integrate(expand((3 - 3*x)*(3*x - 2)), (x, Rational(2, 3), 1))"
     ],
     "language": "python",
     "metadata": {},
     "outputs": [
      {
       "latex": [
        "$$- \\frac{55}{18}$$"
       ],
       "metadata": {},
       "output_type": "pyout",
       "png": "[encoded data removed]",
       "prompt_number": 153,
       "text": [
        "-55 \n",
        "\u2500\u2500\u2500\u2500\n",
        " 18 "
       ]
      }
     ],
     "prompt_number": 153
    },
    {
     "cell_type": "code",
     "collapsed": false,
     "input": [
      "val = 3 + Rational(8, 9)\n",
      "val"
     ],
     "language": "python",
     "metadata": {},
     "outputs": [
      {
       "latex": [
        "$$\\frac{35}{9}$$"
       ],
       "metadata": {},
       "output_type": "pyout",
       "png": "[encoded data removed]",
       "prompt_number": 158,
       "text": [
        "35/9"
       ]
      }
     ],
     "prompt_number": 158
    },
    {
     "cell_type": "code",
     "collapsed": false,
     "input": [
      "val.evalf()"
     ],
     "language": "python",
     "metadata": {},
     "outputs": [
      {
       "latex": [
        "$$3.88888888888889$$"
       ],
       "metadata": {},
       "output_type": "pyout",
       "png": "[encoded data removed]",
       "prompt_number": 159,
       "text": [
        "3.88888888888889"
       ]
      }
     ],
     "prompt_number": 159
    },
    {
     "cell_type": "code",
     "collapsed": false,
     "input": [
      "expand((3*x - 2)*(3*x - 2))"
     ],
     "language": "python",
     "metadata": {},
     "outputs": [
      {
       "latex": [
        "$$9 x^{2} - 12 x + 4$$"
       ],
       "metadata": {},
       "output_type": "pyout",
       "png": "[encoded data removed]",
       "prompt_number": 157,
       "text": [
        "   2           \n",
        "9\u22c5x  - 12\u22c5x + 4"
       ]
      }
     ],
     "prompt_number": 157
    },
    {
     "cell_type": "code",
     "collapsed": false,
     "input": [],
     "language": "python",
     "metadata": {},
     "outputs": [],
     "prompt_number": 156
    }
   ],
   "metadata": {}
  }
 ]
}