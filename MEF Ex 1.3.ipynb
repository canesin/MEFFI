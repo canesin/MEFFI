{
 "metadata": {
  "name": "",
  "signature": "sha256:4cb6b5b1767a3f1586919502d13359df1f6081b125d7441b589e527527fa0552"
 },
 "nbformat": 3,
 "nbformat_minor": 0,
 "worksheets": [
  {
   "cells": [
    {
     "cell_type": "code",
     "collapsed": false,
     "input": [
      "from sympy import *\n",
      "from sympy.abc import *\n",
      "from sympy.interactive import printing\n",
      "\n",
      "printing.init_printing()\n",
      "\n",
      "u = Function('u')\n",
      "\n",
      "%matplotlib inline"
     ],
     "language": "python",
     "metadata": {},
     "outputs": [],
     "prompt_number": 98
    },
    {
     "cell_type": "markdown",
     "metadata": {},
     "source": [
      "### Solu\u00e7\u00e3o anal\u00edtica "
     ]
    },
    {
     "cell_type": "code",
     "collapsed": false,
     "input": [
      "#k = Piecewise((1, (x < Rational(1, 2))), (2, (x > Rational(1, 2))))\n",
      "#k"
     ],
     "language": "python",
     "metadata": {},
     "outputs": [],
     "prompt_number": 99
    },
    {
     "cell_type": "code",
     "collapsed": false,
     "input": [
      "f = k(x)*u(x).diff(x,2)\n",
      "Eq(f)"
     ],
     "language": "python",
     "metadata": {},
     "outputs": [
      {
       "latex": [
        "$$k{\\left (x \\right )} \\frac{d^{2}}{d x^{2}}  u{\\left (x \\right )} = 0$$"
       ],
       "metadata": {},
       "output_type": "pyout",
       "png": "[encoded data removed]",
       "prompt_number": 100,
       "text": [
        "       2          \n",
        "      d           \n",
        "k(x)\u22c5\u2500\u2500\u2500(u(x)) = 0\n",
        "       2          \n",
        "     dx           "
       ]
      }
     ],
     "prompt_number": 100
    },
    {
     "cell_type": "code",
     "collapsed": false,
     "input": [
      "solution = dsolve(Eq(f))\n",
      "solution.rhs"
     ],
     "language": "python",
     "metadata": {},
     "outputs": [
      {
       "latex": [
        "$$C_{1} + C_{2} x$$"
       ],
       "metadata": {},
       "output_type": "pyout",
       "png": "[encoded data removed]",
       "prompt_number": 101,
       "text": [
        "C\u2081 + C\u2082\u22c5x"
       ]
      }
     ],
     "prompt_number": 101
    },
    {
     "cell_type": "code",
     "collapsed": false,
     "input": [
      "system = [Eq(solution.rhs.subs(x, 1), 1), Eq(solution.rhs.subs(x, 0))]\n",
      "system"
     ],
     "language": "python",
     "metadata": {},
     "outputs": [
      {
       "latex": [
        "$$\\left [ C_{1} + C_{2} = 1, \\quad C_{1} = 0\\right ]$$"
       ],
       "metadata": {},
       "output_type": "pyout",
       "png": "[encoded data removed]",
       "prompt_number": 102,
       "text": [
        "[C\u2081 + C\u2082 = 1, C\u2081 = 0]"
       ]
      }
     ],
     "prompt_number": 102
    },
    {
     "cell_type": "code",
     "collapsed": false,
     "input": [
      "cts = solve(system)\n",
      "cts"
     ],
     "language": "python",
     "metadata": {},
     "outputs": [
      {
       "latex": [
        "$$\\left \\{ C_{1} : 0, \\quad C_{2} : 1\\right \\}$$"
       ],
       "metadata": {},
       "output_type": "pyout",
       "png": "[encoded data removed]",
       "prompt_number": 103,
       "text": [
        "{C\u2081: 0, C\u2082: 1}"
       ]
      }
     ],
     "prompt_number": 103
    },
    {
     "cell_type": "code",
     "collapsed": false,
     "input": [
      "Uf = solution.rhs.subs(cts)\n",
      "Uf"
     ],
     "language": "python",
     "metadata": {},
     "outputs": [
      {
       "latex": [
        "$$x$$"
       ],
       "metadata": {},
       "output_type": "pyout",
       "png": "[encoded data removed]",
       "prompt_number": 104,
       "text": [
        "x"
       ]
      }
     ],
     "prompt_number": 104
    },
    {
     "cell_type": "code",
     "collapsed": false,
     "input": [
      "plot(Uf, (x, 0, 1))"
     ],
     "language": "python",
     "metadata": {},
     "outputs": [
      {
       "metadata": {},
       "output_type": "display_data",
       "png": "[encoded data removed]",
       "text": [
        "<matplotlib.figure.Figure at 0x7f5cf179ea50>"
       ]
      },
      {
       "metadata": {},
       "output_type": "pyout",
       "prompt_number": 105,
       "text": [
        "<sympy.plotting.plot.Plot at 0x7f5cf179e890>"
       ]
      }
     ],
     "prompt_number": 105
    },
    {
     "cell_type": "code",
     "collapsed": false,
     "input": [
      "Uf.diff(x).subs(x, 1).evalf() + Uf.subs(x, 1).evalf()"
     ],
     "language": "python",
     "metadata": {},
     "outputs": [
      {
       "latex": [
        "$$2.0$$"
       ],
       "metadata": {},
       "output_type": "pyout",
       "png": "[encoded data removed]",
       "prompt_number": 106,
       "text": [
        "2.00000000000000"
       ]
      }
     ],
     "prompt_number": 106
    },
    {
     "cell_type": "code",
     "collapsed": false,
     "input": [
      "d1 = Uf.subs(x, Rational(1, 3)).evalf()\n",
      "d2 = Uf.subs(x, Rational(2, 3)).evalf()\n",
      "d3 = Uf.subs(x, Rational(3, 3)).evalf()\n",
      "D = Matrix([d1, d2, d3])\n",
      "D"
     ],
     "language": "python",
     "metadata": {},
     "outputs": [
      {
       "latex": [
        "$$\\left[\\begin{matrix}0.333333333333333\\\\0.666666666666667\\\\1.0\\end{matrix}\\right]$$"
       ],
       "metadata": {},
       "output_type": "pyout",
       "png": "[encoded data removed]",
       "prompt_number": 107,
       "text": [
        "\u23a10.333333333333333\u23a4\n",
        "\u23a2                 \u23a5\n",
        "\u23a20.666666666666667\u23a5\n",
        "\u23a2                 \u23a5\n",
        "\u23a3       1.0       \u23a6"
       ]
      }
     ],
     "prompt_number": 107
    },
    {
     "cell_type": "markdown",
     "metadata": {},
     "source": [
      "### Elementos finitos"
     ]
    },
    {
     "cell_type": "code",
     "collapsed": false,
     "input": [
      "N1 = Piecewise((3*x, x <= Rational(1, 3)), (2 - 3*x, x <= Rational(2, 3)), (0, True))\n",
      "N2 = Piecewise((0, x <= Rational(1, 3)), (3*x - 1, x <= Rational(2, 3)), (3 - 3*x, x <= Rational(3, 3)), (0, True))\n",
      "N3 = Piecewise((3*x - 2, x >= Rational(2, 3)), (0, True))\n",
      "N1"
     ],
     "language": "python",
     "metadata": {},
     "outputs": [
      {
       "latex": [
        "$$\\begin{cases} 3 x & \\text{for}\\: x \\leq \\frac{1}{3} \\\\- 3 x + 2 & \\text{for}\\: x \\leq \\frac{2}{3} \\\\0 & \\text{otherwise} \\end{cases}$$"
       ],
       "metadata": {},
       "output_type": "pyout",
       "png": "[encoded data removed]",
       "prompt_number": 108,
       "text": [
        "\u23a7  3\u22c5x     for x \u2264 1/3\n",
        "\u23aa                     \n",
        "\u23a8-3\u22c5x + 2  for x \u2264 2/3\n",
        "\u23aa                     \n",
        "\u23a9   0       otherwise "
       ]
      }
     ],
     "prompt_number": 108
    },
    {
     "cell_type": "code",
     "collapsed": false,
     "input": [
      "N2"
     ],
     "language": "python",
     "metadata": {},
     "outputs": [
      {
       "latex": [
        "$$\\begin{cases} 0 & \\text{for}\\: x \\leq \\frac{1}{3} \\\\3 x - 1 & \\text{for}\\: x \\leq \\frac{2}{3} \\\\- 3 x + 3 & \\text{for}\\: x \\leq 1 \\\\0 & \\text{otherwise} \\end{cases}$$"
       ],
       "metadata": {},
       "output_type": "pyout",
       "png": "[encoded data removed]",
       "prompt_number": 109,
       "text": [
        "\u23a7   0      for x \u2264 1/3\n",
        "\u23aa                     \n",
        "\u23aa3\u22c5x - 1   for x \u2264 2/3\n",
        "\u23a8                     \n",
        "\u23aa-3\u22c5x + 3   for x \u2264 1 \n",
        "\u23aa                     \n",
        "\u23a9   0       otherwise "
       ]
      }
     ],
     "prompt_number": 109
    },
    {
     "cell_type": "code",
     "collapsed": false,
     "input": [
      "N3"
     ],
     "language": "python",
     "metadata": {},
     "outputs": [
      {
       "latex": [
        "$$\\begin{cases} 3 x - 2 & \\text{for}\\: x \\geq \\frac{2}{3} \\\\0 & \\text{otherwise} \\end{cases}$$"
       ],
       "metadata": {},
       "output_type": "pyout",
       "png": "[encoded data removed]",
       "prompt_number": 110,
       "text": [
        "\u23a73\u22c5x - 2  for x \u2265 2/3\n",
        "\u23a8                    \n",
        "\u23a9   0      otherwise "
       ]
      }
     ],
     "prompt_number": 110
    },
    {
     "cell_type": "code",
     "collapsed": false,
     "input": [
      "K11 = integrate(N1.diff(x)*N1.diff(x), (x, 0, 1)) - integrate(N1*N1, (x, 0, 1)) + N1.subs(x, 1)*N1.subs(x, 1)\n",
      "K11.evalf()"
     ],
     "language": "python",
     "metadata": {},
     "outputs": [
      {
       "latex": [
        "$$5.77777777777778$$"
       ],
       "metadata": {},
       "output_type": "pyout",
       "png": "[encoded data removed]",
       "prompt_number": 111,
       "text": [
        "5.77777777777778"
       ]
      }
     ],
     "prompt_number": 111
    },
    {
     "cell_type": "code",
     "collapsed": false,
     "input": [
      "K12 = integrate(N1.diff(x)*N2.diff(x), (x, 0, 1)) - integrate(N1*N2, (x, 0, 1)) + N1.subs(x, 1)*N2.subs(x, 1)\n",
      "K12.evalf()"
     ],
     "language": "python",
     "metadata": {},
     "outputs": [
      {
       "latex": [
        "$$-3.05555555555556$$"
       ],
       "metadata": {},
       "output_type": "pyout",
       "png": "[encoded data removed]",
       "prompt_number": 112,
       "text": [
        "-3.05555555555556"
       ]
      }
     ],
     "prompt_number": 112
    },
    {
     "cell_type": "code",
     "collapsed": false,
     "input": [
      "K13 = 0\n",
      "K13"
     ],
     "language": "python",
     "metadata": {},
     "outputs": [
      {
       "latex": [
        "$$0$$"
       ],
       "metadata": {},
       "output_type": "pyout",
       "png": "[encoded data removed]",
       "prompt_number": 113,
       "text": [
        "0"
       ]
      }
     ],
     "prompt_number": 113
    },
    {
     "cell_type": "code",
     "collapsed": false,
     "input": [
      "K22 = integrate(N2.diff(x)*N2.diff(x), (x, 0, 1)) - integrate(N2*N2, (x, 0, 1)) + N2.subs(x, 1)*N2.subs(x, 1)\n",
      "K22.evalf()"
     ],
     "language": "python",
     "metadata": {},
     "outputs": [
      {
       "latex": [
        "$$5.77777777777778$$"
       ],
       "metadata": {},
       "output_type": "pyout",
       "png": "[encoded data removed]",
       "prompt_number": 114,
       "text": [
        "5.77777777777778"
       ]
      }
     ],
     "prompt_number": 114
    },
    {
     "cell_type": "code",
     "collapsed": false,
     "input": [
      "K23 = K12\n",
      "K23.evalf()"
     ],
     "language": "python",
     "metadata": {},
     "outputs": [
      {
       "latex": [
        "$$-3.05555555555556$$"
       ],
       "metadata": {},
       "output_type": "pyout",
       "png": "[encoded data removed]",
       "prompt_number": 115,
       "text": [
        "-3.05555555555556"
       ]
      }
     ],
     "prompt_number": 115
    },
    {
     "cell_type": "code",
     "collapsed": false,
     "input": [
      "K33 = integrate(N3.diff(x)*N3.diff(x), (x, 0, 1)) - integrate(N3*N3, (x, 0, 1)) + N3.subs(x, 1)*N3.subs(x, 1)\n",
      "K33.evalf()"
     ],
     "language": "python",
     "metadata": {},
     "outputs": [
      {
       "latex": [
        "$$3.88888888888889$$"
       ],
       "metadata": {},
       "output_type": "pyout",
       "png": "[encoded data removed]",
       "prompt_number": 116,
       "text": [
        "3.88888888888889"
       ]
      }
     ],
     "prompt_number": 116
    },
    {
     "cell_type": "code",
     "collapsed": false,
     "input": [
      "K = Matrix([[K11, K12, K13], [K12, K22, K23], [K13, K23, K33]])\n",
      "K"
     ],
     "language": "python",
     "metadata": {},
     "outputs": [
      {
       "latex": [
        "$$\\left[\\begin{matrix}\\frac{52}{9} & - \\frac{55}{18} & 0\\\\- \\frac{55}{18} & \\frac{52}{9} & - \\frac{55}{18}\\\\0 & - \\frac{55}{18} & \\frac{35}{9}\\end{matrix}\\right]$$"
       ],
       "metadata": {},
       "output_type": "pyout",
       "png": "[encoded data removed]",
       "prompt_number": 117,
       "text": [
        "\u23a1      -55       \u23a4\n",
        "\u23a252/9  \u2500\u2500\u2500\u2500   0  \u23a5\n",
        "\u23a2       18       \u23a5\n",
        "\u23a2                \u23a5\n",
        "\u23a2-55         -55 \u23a5\n",
        "\u23a2\u2500\u2500\u2500\u2500  52/9  \u2500\u2500\u2500\u2500\u23a5\n",
        "\u23a2 18          18 \u23a5\n",
        "\u23a2                \u23a5\n",
        "\u23a2      -55       \u23a5\n",
        "\u23a2 0    \u2500\u2500\u2500\u2500  35/9\u23a5\n",
        "\u23a3       18       \u23a6"
       ]
      }
     ],
     "prompt_number": 117
    },
    {
     "cell_type": "code",
     "collapsed": false,
     "input": [
      "F1 = integrate(N1, (x, 0, 1))\n",
      "F1"
     ],
     "language": "python",
     "metadata": {},
     "outputs": [
      {
       "latex": [
        "$$\\frac{1}{3}$$"
       ],
       "metadata": {},
       "output_type": "pyout",
       "png": "[encoded data removed]",
       "prompt_number": 118,
       "text": [
        "1/3"
       ]
      }
     ],
     "prompt_number": 118
    },
    {
     "cell_type": "code",
     "collapsed": false,
     "input": [
      "F2 = integrate(N2, (x, 0, 1))\n",
      "F2"
     ],
     "language": "python",
     "metadata": {},
     "outputs": [
      {
       "latex": [
        "$$\\frac{1}{3}$$"
       ],
       "metadata": {},
       "output_type": "pyout",
       "png": "[encoded data removed]",
       "prompt_number": 119,
       "text": [
        "1/3"
       ]
      }
     ],
     "prompt_number": 119
    },
    {
     "cell_type": "code",
     "collapsed": false,
     "input": [
      "F3 = integrate(N3, (x, 0, 1))\n",
      "F3"
     ],
     "language": "python",
     "metadata": {},
     "outputs": [
      {
       "latex": [
        "$$\\frac{1}{6}$$"
       ],
       "metadata": {},
       "output_type": "pyout",
       "png": "[encoded data removed]",
       "prompt_number": 120,
       "text": [
        "1/6"
       ]
      }
     ],
     "prompt_number": 120
    },
    {
     "cell_type": "code",
     "collapsed": false,
     "input": [
      "F = Matrix([F1, F2, F3])\n",
      "F"
     ],
     "language": "python",
     "metadata": {},
     "outputs": [
      {
       "latex": [
        "$$\\left[\\begin{matrix}\\frac{1}{3}\\\\\\frac{1}{3}\\\\\\frac{1}{6}\\end{matrix}\\right]$$"
       ],
       "metadata": {},
       "output_type": "pyout",
       "png": "[encoded data removed]",
       "prompt_number": 121,
       "text": [
        "\u23a11/3\u23a4\n",
        "\u23a2   \u23a5\n",
        "\u23a21/3\u23a5\n",
        "\u23a2   \u23a5\n",
        "\u23a31/6\u23a6"
       ]
      }
     ],
     "prompt_number": 121
    },
    {
     "cell_type": "code",
     "collapsed": false,
     "input": [
      "Dfem = K.solve(F)\n",
      "Dfem.evalf()"
     ],
     "language": "python",
     "metadata": {},
     "outputs": [
      {
       "latex": [
        "$$\\left[\\begin{matrix}0.250054166486112\\\\0.363738787537375\\\\0.328651904493652\\end{matrix}\\right]$$"
       ],
       "metadata": {},
       "output_type": "pyout",
       "png": "[encoded data removed]",
       "prompt_number": 122,
       "text": [
        "\u23a10.250054166486112\u23a4\n",
        "\u23a2                 \u23a5\n",
        "\u23a20.363738787537375\u23a5\n",
        "\u23a2                 \u23a5\n",
        "\u23a30.328651904493652\u23a6"
       ]
      }
     ],
     "prompt_number": 122
    },
    {
     "cell_type": "code",
     "collapsed": false,
     "input": [
      "D"
     ],
     "language": "python",
     "metadata": {},
     "outputs": [
      {
       "latex": [
        "$$\\left[\\begin{matrix}0.333333333333333\\\\0.666666666666667\\\\1.0\\end{matrix}\\right]$$"
       ],
       "metadata": {},
       "output_type": "pyout",
       "png": "[encoded data removed]",
       "prompt_number": 123,
       "text": [
        "\u23a10.333333333333333\u23a4\n",
        "\u23a2                 \u23a5\n",
        "\u23a20.666666666666667\u23a5\n",
        "\u23a2                 \u23a5\n",
        "\u23a3       1.0       \u23a6"
       ]
      }
     ],
     "prompt_number": 123
    },
    {
     "cell_type": "code",
     "collapsed": false,
     "input": [
      "Dfem - D"
     ],
     "language": "python",
     "metadata": {},
     "outputs": [
      {
       "latex": [
        "$$\\left[\\begin{matrix}-0.0832791668472216\\\\-0.302927879129292\\\\-0.671348095506348\\end{matrix}\\right]$$"
       ],
       "metadata": {},
       "output_type": "pyout",
       "png": "[encoded data removed]",
       "prompt_number": 124,
       "text": [
        "\u23a1-0.0832791668472216\u23a4\n",
        "\u23a2                   \u23a5\n",
        "\u23a2-0.302927879129292 \u23a5\n",
        "\u23a2                   \u23a5\n",
        "\u23a3-0.671348095506348 \u23a6"
       ]
      }
     ],
     "prompt_number": 124
    },
    {
     "cell_type": "code",
     "collapsed": false,
     "input": [
      "integrate(-9, (x, Rational(2, 3), 1)) - integrate(expand((3 - 3*x)*(3*x - 2)), (x, Rational(2, 3), 1))"
     ],
     "language": "python",
     "metadata": {},
     "outputs": [
      {
       "latex": [
        "$$- \\frac{55}{18}$$"
       ],
       "metadata": {},
       "output_type": "pyout",
       "png": "[encoded data removed]",
       "prompt_number": 125,
       "text": [
        "-55 \n",
        "\u2500\u2500\u2500\u2500\n",
        " 18 "
       ]
      }
     ],
     "prompt_number": 125
    },
    {
     "cell_type": "code",
     "collapsed": false,
     "input": [
      "val = 3 + Rational(8, 9)\n",
      "val"
     ],
     "language": "python",
     "metadata": {},
     "outputs": [
      {
       "latex": [
        "$$\\frac{35}{9}$$"
       ],
       "metadata": {},
       "output_type": "pyout",
       "png": "[encoded data removed]",
       "prompt_number": 126,
       "text": [
        "35/9"
       ]
      }
     ],
     "prompt_number": 126
    },
    {
     "cell_type": "code",
     "collapsed": false,
     "input": [
      "val.evalf()"
     ],
     "language": "python",
     "metadata": {},
     "outputs": [
      {
       "latex": [
        "$$3.88888888888889$$"
       ],
       "metadata": {},
       "output_type": "pyout",
       "png": "[encoded data removed]",
       "prompt_number": 127,
       "text": [
        "3.88888888888889"
       ]
      }
     ],
     "prompt_number": 127
    },
    {
     "cell_type": "code",
     "collapsed": false,
     "input": [
      "expand((3*x - 2)*(3*x - 2))"
     ],
     "language": "python",
     "metadata": {},
     "outputs": [
      {
       "latex": [
        "$$9 x^{2} - 12 x + 4$$"
       ],
       "metadata": {},
       "output_type": "pyout",
       "png": "[encoded data removed]",
       "prompt_number": 128,
       "text": [
        "   2           \n",
        "9\u22c5x  - 12\u22c5x + 4"
       ]
      }
     ],
     "prompt_number": 128
    },
    {
     "cell_type": "code",
     "collapsed": false,
     "input": [],
     "language": "python",
     "metadata": {},
     "outputs": [],
     "prompt_number": 128
    }
   ],
   "metadata": {}
  }
 ]
}