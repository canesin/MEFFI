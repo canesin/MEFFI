{
 "metadata": {
  "name": "",
  "signature": "sha256:c97f2edbb41ae3cd4c98ff275f2ff33bf911aecadc7b762f78c8422e6ec3d532"
 },
 "nbformat": 3,
 "nbformat_minor": 0,
 "worksheets": [
  {
   "cells": [
    {
     "cell_type": "markdown",
     "metadata": {},
     "source": [
      "### F\u00e1bio C\u00e9sar Canesin\n",
      "Exerc\u00edcio IV, lista 1 - Caso com convec\u00e7\u00e3o-difus\u00e3o-rea\u00e7\u00e3o unidimensional"
     ]
    },
    {
     "cell_type": "code",
     "collapsed": false,
     "input": [
      "from sympy import *\n",
      "from sympy.abc import *\n",
      "from sympy.interactive import printing\n",
      "import matplotlib.pyplot as plt\n",
      "\n",
      "printing.init_printing()\n",
      "\n",
      "u = Function('u', real=True)\n",
      "epsilon, sigma = symbols('epsilon sigma', real=True)\n",
      "\n",
      "%matplotlib inline"
     ],
     "language": "python",
     "metadata": {},
     "outputs": [],
     "prompt_number": 1
    },
    {
     "cell_type": "markdown",
     "metadata": {},
     "source": [
      "### Equa\u00e7\u00e3o diferencial estudada"
     ]
    },
    {
     "cell_type": "code",
     "collapsed": false,
     "input": [
      "f = u(x).diff(x, 1) + epsilon*u(x).diff(x, 2) + sigma*u(x)\n",
      "Eq(f)"
     ],
     "language": "python",
     "metadata": {},
     "outputs": [
      {
       "latex": [
        "$$\\epsilon \\frac{d^{2}}{d x^{2}}  u{\\left (x \\right )} + \\sigma u{\\left (x \\right )} + \\frac{d}{d x} u{\\left (x \\right )} = 0$$"
       ],
       "metadata": {},
       "output_type": "pyout",
       "png": "[encoded data removed]",
       "prompt_number": 2,
       "text": [
        "    2                              \n",
        "   d                   d           \n",
        "\u03b5\u22c5\u2500\u2500\u2500(u(x)) + \u03c3\u22c5u(x) + \u2500\u2500(u(x)) = 0\n",
        "    2                  dx          \n",
        "  dx                               "
       ]
      }
     ],
     "prompt_number": 2
    },
    {
     "cell_type": "markdown",
     "metadata": {},
     "source": [
      "### Elementos finitos"
     ]
    },
    {
     "cell_type": "code",
     "collapsed": false,
     "input": [
      "def I4(func, lo, up):\n",
      "    return Integral(func, (x, Rational(lo), Rational(up)))"
     ],
     "language": "python",
     "metadata": {},
     "outputs": [],
     "prompt_number": 3
    },
    {
     "cell_type": "code",
     "collapsed": false,
     "input": [
      "K24 = K42 = 0"
     ],
     "language": "python",
     "metadata": {},
     "outputs": [],
     "prompt_number": 4
    },
    {
     "cell_type": "markdown",
     "metadata": {},
     "source": [
      "##K22"
     ]
    },
    {
     "cell_type": "code",
     "collapsed": false,
     "input": [
      "K22 = -epsilon*I4(16, 0, 0.5) + I4(4*x/Rational(0.25), 0, 0.25) + I4(-4*(Rational(0.5) - x)/Rational(0.25), 0.25, 0.5) + sigma*I4((x/Rational(0.25))**2, 0, 0.25) + sigma*I4(((Rational(0.5) -x)/Rational(0.25))**2, 0.25, 0.5)\n",
      "K22"
     ],
     "language": "python",
     "metadata": {},
     "outputs": [
      {
       "latex": [
        "$$- \\epsilon \\int_{0}^{\\frac{1}{2}} 16\\, dx + \\sigma \\int_{\\frac{1}{4}}^{\\frac{1}{2}} \\left(- 4 x + 2\\right)^{2}\\, dx + \\sigma \\int_{0}^{\\frac{1}{4}} 16 x^{2}\\, dx + \\int_{\\frac{1}{4}}^{\\frac{1}{2}} 16 x - 8\\, dx + \\int_{0}^{\\frac{1}{4}} 16 x\\, dx$$"
       ],
       "metadata": {},
       "output_type": "pyout",
       "png": "[encoded data removed]",
       "prompt_number": 5,
       "text": [
        "                  1/2                    1/4                                  \n",
        "    1/2            \u2320                      \u2320             1/2                 1/\n",
        "     \u2320             \u23ae            2         \u23ae      2       \u2320                   \u2320\n",
        "- \u03b5\u22c5 \u23ae  16 dx + \u03c3\u22c5 \u23ae  (-4\u22c5x + 2)  dx + \u03c3\u22c5 \u23ae  16\u22c5x  dx +  \u23ae  (16\u22c5x - 8) dx +  \u23ae\n",
        "     \u2321             \u2321                      \u2321              \u2321                   \u2321\n",
        "     0            1/4                     0             1/4                  0\n",
        "\n",
        "         \n",
        "4        \n",
        "         \n",
        "  16\u22c5x dx\n",
        "         \n",
        "         "
       ]
      }
     ],
     "prompt_number": 5
    },
    {
     "cell_type": "code",
     "collapsed": false,
     "input": [
      "K22.doit()"
     ],
     "language": "python",
     "metadata": {},
     "outputs": [
      {
       "latex": [
        "$$- 8 \\epsilon + \\frac{\\sigma}{6}$$"
       ],
       "metadata": {},
       "output_type": "pyout",
       "png": "[encoded data removed]",
       "prompt_number": 6,
       "text": [
        "       \u03c3\n",
        "-8\u22c5\u03b5 + \u2500\n",
        "       6"
       ]
      }
     ],
     "prompt_number": 6
    },
    {
     "cell_type": "markdown",
     "metadata": {},
     "source": [
      "##K23"
     ]
    },
    {
     "cell_type": "code",
     "collapsed": false,
     "input": [
      "K23 = epsilon*I4(16, 0.25, 0.5) + I4(4*(Rational(0.5) - x)/Rational(0.25), 0.25, 0.5) + sigma*I4(((Rational(0.5) - x)/Rational(0.25))*((x - Rational(0.25))/Rational(0.25)), 0.25, 0.5)\n",
      "K23"
     ],
     "language": "python",
     "metadata": {},
     "outputs": [
      {
       "latex": [
        "$$\\epsilon \\int_{\\frac{1}{4}}^{\\frac{1}{2}} 16\\, dx + \\sigma \\int_{\\frac{1}{4}}^{\\frac{1}{2}} \\left(- 4 x + 2\\right) \\left(4 x - 1\\right)\\, dx + \\int_{\\frac{1}{4}}^{\\frac{1}{2}} - 16 x + 8\\, dx$$"
       ],
       "metadata": {},
       "output_type": "pyout",
       "png": "[encoded data removed]",
       "prompt_number": 7,
       "text": [
        "  1/2           1/2                           1/2               \n",
        "   \u2320             \u2320                             \u2320                \n",
        "\u03b5\u22c5 \u23ae  16 dx + \u03c3\u22c5 \u23ae  (-4\u22c5x + 2)\u22c5(4\u22c5x - 1) dx +  \u23ae  (-16\u22c5x + 8) dx\n",
        "   \u2321             \u2321                             \u2321                \n",
        "  1/4           1/4                           1/4               "
       ]
      }
     ],
     "prompt_number": 7
    },
    {
     "cell_type": "code",
     "collapsed": false,
     "input": [
      "K23.doit()"
     ],
     "language": "python",
     "metadata": {},
     "outputs": [
      {
       "latex": [
        "$$4 \\epsilon + \\frac{\\sigma}{24} + \\frac{1}{2}$$"
       ],
       "metadata": {},
       "output_type": "pyout",
       "png": "[encoded data removed]",
       "prompt_number": 8,
       "text": [
        "      \u03c3    1\n",
        "4\u22c5\u03b5 + \u2500\u2500 + \u2500\n",
        "      24   2"
       ]
      }
     ],
     "prompt_number": 8
    },
    {
     "cell_type": "markdown",
     "metadata": {},
     "source": [
      "##K32"
     ]
    },
    {
     "cell_type": "code",
     "collapsed": false,
     "input": [
      "K32 = epsilon*I4(16, 0.25, 0.5) + I4(-4*(x - Rational(0.25))/Rational(0.25), 0.25, 0.5) + sigma*I4(((Rational(0.5) - x)/Rational(0.25))*((x - Rational(0.25))/Rational(0.25)), 0.25, 0.5)\n",
      "K32"
     ],
     "language": "python",
     "metadata": {},
     "outputs": [
      {
       "latex": [
        "$$\\epsilon \\int_{\\frac{1}{4}}^{\\frac{1}{2}} 16\\, dx + \\sigma \\int_{\\frac{1}{4}}^{\\frac{1}{2}} \\left(- 4 x + 2\\right) \\left(4 x - 1\\right)\\, dx + \\int_{\\frac{1}{4}}^{\\frac{1}{2}} - 16 x + 4\\, dx$$"
       ],
       "metadata": {},
       "output_type": "pyout",
       "png": "[encoded data removed]",
       "prompt_number": 9,
       "text": [
        "  1/2           1/2                           1/2               \n",
        "   \u2320             \u2320                             \u2320                \n",
        "\u03b5\u22c5 \u23ae  16 dx + \u03c3\u22c5 \u23ae  (-4\u22c5x + 2)\u22c5(4\u22c5x - 1) dx +  \u23ae  (-16\u22c5x + 4) dx\n",
        "   \u2321             \u2321                             \u2321                \n",
        "  1/4           1/4                           1/4               "
       ]
      }
     ],
     "prompt_number": 9
    },
    {
     "cell_type": "code",
     "collapsed": false,
     "input": [
      "K32.doit()"
     ],
     "language": "python",
     "metadata": {},
     "outputs": [
      {
       "latex": [
        "$$4 \\epsilon + \\frac{\\sigma}{24} - \\frac{1}{2}$$"
       ],
       "metadata": {},
       "output_type": "pyout",
       "png": "[encoded data removed]",
       "prompt_number": 10,
       "text": [
        "      \u03c3    1\n",
        "4\u22c5\u03b5 + \u2500\u2500 - \u2500\n",
        "      24   2"
       ]
      }
     ],
     "prompt_number": 10
    },
    {
     "cell_type": "markdown",
     "metadata": {},
     "source": [
      "##K33"
     ]
    },
    {
     "cell_type": "code",
     "collapsed": false,
     "input": [
      "K33 = -epsilon*I4(16, 0.25, 0.75) + I4(4*(x - Rational(0.25))/Rational(0.25), 0.25, 0.5) + I4(-4*(Rational(0.75) - x)/Rational(0.25), 0.5, 0.75) + sigma*I4(((x - Rational(0.25))/Rational(0.25))**2, 0.25, 0.5) + sigma*I4(((Rational(0.75) - x)/Rational(0.25))**2, 0.5, 0.75)\n",
      "K33"
     ],
     "language": "python",
     "metadata": {},
     "outputs": [
      {
       "latex": [
        "$$- \\epsilon \\int_{\\frac{1}{4}}^{\\frac{3}{4}} 16\\, dx + \\sigma \\int_{\\frac{1}{4}}^{\\frac{1}{2}} \\left(4 x - 1\\right)^{2}\\, dx + \\sigma \\int_{\\frac{1}{2}}^{\\frac{3}{4}} \\left(- 4 x + 3\\right)^{2}\\, dx + \\int_{\\frac{1}{2}}^{\\frac{3}{4}} 16 x - 12\\, dx + \\int_{\\frac{1}{4}}^{\\frac{1}{2}} 16 x - 4\\, dx$$"
       ],
       "metadata": {},
       "output_type": "pyout",
       "png": "[encoded data removed]",
       "prompt_number": 11,
       "text": [
        "                  1/2                   3/4                                   \n",
        "    3/4            \u2320                     \u2320                   3/4              \n",
        "     \u2320             \u23ae           2         \u23ae            2       \u2320               \n",
        "- \u03b5\u22c5 \u23ae  16 dx + \u03c3\u22c5 \u23ae  (4\u22c5x - 1)  dx + \u03c3\u22c5 \u23ae  (-4\u22c5x + 3)  dx +  \u23ae  (16\u22c5x - 12) d\n",
        "     \u2321             \u2321                     \u2321                    \u2321               \n",
        "    1/4           1/4                   1/2                  1/2              \n",
        "\n",
        "                     \n",
        "    1/2              \n",
        "     \u2320               \n",
        "x +  \u23ae  (16\u22c5x - 4) dx\n",
        "     \u2321               \n",
        "    1/4              "
       ]
      }
     ],
     "prompt_number": 11
    },
    {
     "cell_type": "code",
     "collapsed": false,
     "input": [
      "K33.doit()"
     ],
     "language": "python",
     "metadata": {},
     "outputs": [
      {
       "latex": [
        "$$- 8 \\epsilon + \\frac{\\sigma}{6}$$"
       ],
       "metadata": {},
       "output_type": "pyout",
       "png": "[encoded data removed]",
       "prompt_number": 12,
       "text": [
        "       \u03c3\n",
        "-8\u22c5\u03b5 + \u2500\n",
        "       6"
       ]
      }
     ],
     "prompt_number": 12
    },
    {
     "cell_type": "markdown",
     "metadata": {},
     "source": [
      "##K34"
     ]
    },
    {
     "cell_type": "code",
     "collapsed": false,
     "input": [
      "K34 = epsilon*I4(16, 0.5, 0.75) + I4(4*(Rational(0.75) - x)/Rational(0.25), 0.5, 0.75) + sigma*I4(((x - Rational(0.5))/Rational(0.25))*((Rational(0.75) - x)/Rational(0.25)), 0.5, 0.75)\n",
      "K34"
     ],
     "language": "python",
     "metadata": {},
     "outputs": [
      {
       "latex": [
        "$$\\epsilon \\int_{\\frac{1}{2}}^{\\frac{3}{4}} 16\\, dx + \\sigma \\int_{\\frac{1}{2}}^{\\frac{3}{4}} \\left(- 4 x + 3\\right) \\left(4 x - 2\\right)\\, dx + \\int_{\\frac{1}{2}}^{\\frac{3}{4}} - 16 x + 12\\, dx$$"
       ],
       "metadata": {},
       "output_type": "pyout",
       "png": "[encoded data removed]",
       "prompt_number": 13,
       "text": [
        "  3/4           3/4                           3/4                \n",
        "   \u2320             \u2320                             \u2320                 \n",
        "\u03b5\u22c5 \u23ae  16 dx + \u03c3\u22c5 \u23ae  (-4\u22c5x + 3)\u22c5(4\u22c5x - 2) dx +  \u23ae  (-16\u22c5x + 12) dx\n",
        "   \u2321             \u2321                             \u2321                 \n",
        "  1/2           1/2                           1/2                "
       ]
      }
     ],
     "prompt_number": 13
    },
    {
     "cell_type": "code",
     "collapsed": false,
     "input": [
      "K34.doit()"
     ],
     "language": "python",
     "metadata": {},
     "outputs": [
      {
       "latex": [
        "$$4 \\epsilon + \\frac{\\sigma}{24} + \\frac{1}{2}$$"
       ],
       "metadata": {},
       "output_type": "pyout",
       "png": "[encoded data removed]",
       "prompt_number": 14,
       "text": [
        "      \u03c3    1\n",
        "4\u22c5\u03b5 + \u2500\u2500 + \u2500\n",
        "      24   2"
       ]
      }
     ],
     "prompt_number": 14
    },
    {
     "cell_type": "markdown",
     "metadata": {},
     "source": [
      "##K43"
     ]
    },
    {
     "cell_type": "code",
     "collapsed": false,
     "input": [
      "K43 = epsilon*I4(16, 0.5, 0.75) + I4(-4*(x - Rational(0.5))/Rational(0.25), 0.5, 0.75) + sigma*I4(((x - Rational(0.5))/Rational(0.25))*((Rational(0.75) - x)/Rational(0.25)), 0.5, 0.75)\n",
      "K43"
     ],
     "language": "python",
     "metadata": {},
     "outputs": [
      {
       "latex": [
        "$$\\epsilon \\int_{\\frac{1}{2}}^{\\frac{3}{4}} 16\\, dx + \\sigma \\int_{\\frac{1}{2}}^{\\frac{3}{4}} \\left(- 4 x + 3\\right) \\left(4 x - 2\\right)\\, dx + \\int_{\\frac{1}{2}}^{\\frac{3}{4}} - 16 x + 8\\, dx$$"
       ],
       "metadata": {},
       "output_type": "pyout",
       "png": "[encoded data removed]",
       "prompt_number": 15,
       "text": [
        "  3/4           3/4                           3/4               \n",
        "   \u2320             \u2320                             \u2320                \n",
        "\u03b5\u22c5 \u23ae  16 dx + \u03c3\u22c5 \u23ae  (-4\u22c5x + 3)\u22c5(4\u22c5x - 2) dx +  \u23ae  (-16\u22c5x + 8) dx\n",
        "   \u2321             \u2321                             \u2321                \n",
        "  1/2           1/2                           1/2               "
       ]
      }
     ],
     "prompt_number": 15
    },
    {
     "cell_type": "code",
     "collapsed": false,
     "input": [
      "K43.doit()"
     ],
     "language": "python",
     "metadata": {},
     "outputs": [
      {
       "latex": [
        "$$4 \\epsilon + \\frac{\\sigma}{24} - \\frac{1}{2}$$"
       ],
       "metadata": {},
       "output_type": "pyout",
       "png": "[encoded data removed]",
       "prompt_number": 16,
       "text": [
        "      \u03c3    1\n",
        "4\u22c5\u03b5 + \u2500\u2500 - \u2500\n",
        "      24   2"
       ]
      }
     ],
     "prompt_number": 16
    },
    {
     "cell_type": "markdown",
     "metadata": {},
     "source": [
      "##K44"
     ]
    },
    {
     "cell_type": "code",
     "collapsed": false,
     "input": [
      "K44 = -epsilon*I4(16, 0.5, 1) + I4(4*(x - Rational(0.5))/Rational(0.25), 0.5, 0.75) + I4(-4*(1 - x)/Rational(0.25), 0.75, 1) + sigma*I4(((x - Rational(0.5))/Rational(0.25))**2, 0.5, 0.75) + sigma*I4(((1 - x)/Rational(0.25))**2, 0.75, 1)\n",
      "K44"
     ],
     "language": "python",
     "metadata": {},
     "outputs": [
      {
       "latex": [
        "$$- \\epsilon \\int_{\\frac{1}{2}}^{1} 16\\, dx + \\sigma \\int_{\\frac{1}{2}}^{\\frac{3}{4}} \\left(4 x - 2\\right)^{2}\\, dx + \\sigma \\int_{\\frac{3}{4}}^{1} \\left(- 4 x + 4\\right)^{2}\\, dx + \\int_{\\frac{3}{4}}^{1} 16 x - 16\\, dx + \\int_{\\frac{1}{2}}^{\\frac{3}{4}} 16 x - 8\\, dx$$"
       ],
       "metadata": {},
       "output_type": "pyout",
       "png": "[encoded data removed]",
       "prompt_number": 17,
       "text": [
        "                  3/4                    1                                    \n",
        "     1             \u2320                     \u2320                    1               \n",
        "     \u2320             \u23ae           2         \u23ae            2       \u2320               \n",
        "- \u03b5\u22c5 \u23ae  16 dx + \u03c3\u22c5 \u23ae  (4\u22c5x - 2)  dx + \u03c3\u22c5 \u23ae  (-4\u22c5x + 4)  dx +  \u23ae  (16\u22c5x - 16) d\n",
        "     \u2321             \u2321                     \u2321                    \u2321               \n",
        "    1/2           1/2                   3/4                  3/4              \n",
        "\n",
        "                     \n",
        "    3/4              \n",
        "     \u2320               \n",
        "x +  \u23ae  (16\u22c5x - 8) dx\n",
        "     \u2321               \n",
        "    1/2              "
       ]
      }
     ],
     "prompt_number": 17
    },
    {
     "cell_type": "code",
     "collapsed": false,
     "input": [
      "K44.doit()"
     ],
     "language": "python",
     "metadata": {},
     "outputs": [
      {
       "latex": [
        "$$- 8 \\epsilon + \\frac{\\sigma}{6}$$"
       ],
       "metadata": {},
       "output_type": "pyout",
       "png": "[encoded data removed]",
       "prompt_number": 18,
       "text": [
        "       \u03c3\n",
        "-8\u22c5\u03b5 + \u2500\n",
        "       6"
       ]
      }
     ],
     "prompt_number": 18
    },
    {
     "cell_type": "markdown",
     "metadata": {},
     "source": [
      "##F4"
     ]
    },
    {
     "cell_type": "code",
     "collapsed": false,
     "input": [
      "F4 = -1*( -epsilon*I4(-16, 0.75, 1) + I4(4*(1 - x)/Rational(0.25), 0.75, 1) + sigma*I4(((x - 1)/Rational(0.25))*((1 - x)/Rational(0.25)), 0.75, 1) )\n",
      "F4"
     ],
     "language": "python",
     "metadata": {},
     "outputs": [
      {
       "latex": [
        "$$\\epsilon \\int_{\\frac{3}{4}}^{1} -16\\, dx - \\sigma \\int_{\\frac{3}{4}}^{1} \\left(- 4 x + 4\\right) \\left(4 x - 4\\right)\\, dx - \\int_{\\frac{3}{4}}^{1} - 16 x + 16\\, dx$$"
       ],
       "metadata": {},
       "output_type": "pyout",
       "png": "[encoded data removed]",
       "prompt_number": 19,
       "text": [
        "   1              1                             1                 \n",
        "   \u2320              \u2320                             \u2320                 \n",
        "\u03b5\u22c5 \u23ae  -16 dx - \u03c3\u22c5 \u23ae  (-4\u22c5x + 4)\u22c5(4\u22c5x - 4) dx -  \u23ae  (-16\u22c5x + 16) dx\n",
        "   \u2321              \u2321                             \u2321                 \n",
        "  3/4            3/4                           3/4                "
       ]
      }
     ],
     "prompt_number": 19
    },
    {
     "cell_type": "code",
     "collapsed": false,
     "input": [
      "F4.doit()"
     ],
     "language": "python",
     "metadata": {},
     "outputs": [
      {
       "latex": [
        "$$- 4 \\epsilon + \\frac{\\sigma}{12} - \\frac{1}{2}$$"
       ],
       "metadata": {},
       "output_type": "pyout",
       "png": "[encoded data removed]",
       "prompt_number": 20,
       "text": [
        "       \u03c3    1\n",
        "-4\u22c5\u03b5 + \u2500\u2500 - \u2500\n",
        "       12   2"
       ]
      }
     ],
     "prompt_number": 20
    },
    {
     "cell_type": "markdown",
     "metadata": {},
     "source": [
      "##K"
     ]
    },
    {
     "cell_type": "code",
     "collapsed": false,
     "input": [
      "K = Matrix([[K22.doit(), K23.doit(), K24],[K32.doit(), K33.doit(), K34.doit()],[K42, K43.doit(), K44.doit()]])\n",
      "K"
     ],
     "language": "python",
     "metadata": {},
     "outputs": [
      {
       "latex": [
        "$$\\left[\\begin{matrix}- 8 \\epsilon + \\frac{\\sigma}{6} & 4 \\epsilon + \\frac{\\sigma}{24} + \\frac{1}{2} & 0\\\\4 \\epsilon + \\frac{\\sigma}{24} - \\frac{1}{2} & - 8 \\epsilon + \\frac{\\sigma}{6} & 4 \\epsilon + \\frac{\\sigma}{24} + \\frac{1}{2}\\\\0 & 4 \\epsilon + \\frac{\\sigma}{24} - \\frac{1}{2} & - 8 \\epsilon + \\frac{\\sigma}{6}\\end{matrix}\\right]$$"
       ],
       "metadata": {},
       "output_type": "pyout",
       "png": "[encoded data removed]",
       "prompt_number": 21,
       "text": [
        "\u23a1         \u03c3          \u03c3    1              \u23a4\n",
        "\u23a2  -8\u22c5\u03b5 + \u2500    4\u22c5\u03b5 + \u2500\u2500 + \u2500       0      \u23a5\n",
        "\u23a2         6          24   2              \u23a5\n",
        "\u23a2                                        \u23a5\n",
        "\u23a2      \u03c3    1           \u03c3          \u03c3    1\u23a5\n",
        "\u23a24\u22c5\u03b5 + \u2500\u2500 - \u2500    -8\u22c5\u03b5 + \u2500    4\u22c5\u03b5 + \u2500\u2500 + \u2500\u23a5\n",
        "\u23a2      24   2           6          24   2\u23a5\n",
        "\u23a2                                        \u23a5\n",
        "\u23a2                    \u03c3    1           \u03c3  \u23a5\n",
        "\u23a2     0        4\u22c5\u03b5 + \u2500\u2500 - \u2500    -8\u22c5\u03b5 + \u2500  \u23a5\n",
        "\u23a3                    24   2           6  \u23a6"
       ]
      }
     ],
     "prompt_number": 21
    },
    {
     "cell_type": "markdown",
     "metadata": {},
     "source": [
      "##F"
     ]
    },
    {
     "cell_type": "code",
     "collapsed": false,
     "input": [
      "F = Matrix([0, 0, F4.doit()])\n",
      "F"
     ],
     "language": "python",
     "metadata": {},
     "outputs": [
      {
       "latex": [
        "$$\\left[\\begin{matrix}0\\\\0\\\\- 4 \\epsilon + \\frac{\\sigma}{12} - \\frac{1}{2}\\end{matrix}\\right]$$"
       ],
       "metadata": {},
       "output_type": "pyout",
       "png": "[encoded data removed]",
       "prompt_number": 22,
       "text": [
        "\u23a1      0      \u23a4\n",
        "\u23a2             \u23a5\n",
        "\u23a2      0      \u23a5\n",
        "\u23a2             \u23a5\n",
        "\u23a2       \u03c3    1\u23a5\n",
        "\u23a2-4\u22c5\u03b5 + \u2500\u2500 - \u2500\u23a5\n",
        "\u23a3       12   2\u23a6"
       ]
      }
     ],
     "prompt_number": 22
    },
    {
     "cell_type": "markdown",
     "metadata": {},
     "source": [
      "## Solu\u00e7\u00e3o anal\u00edtica \\sigma = 0, \\epsilon = 0.1"
     ]
    },
    {
     "cell_type": "code",
     "collapsed": false,
     "input": [
      "s0 = dsolve(f.subs(sigma, 0).subs(epsilon, 0.1))\n",
      "s0"
     ],
     "language": "python",
     "metadata": {},
     "outputs": [
      {
       "latex": [
        "$$u{\\left (x \\right )} = C_{1} + C_{2} e^{- 10 x}$$"
       ],
       "metadata": {},
       "output_type": "pyout",
       "png": "[encoded data removed]",
       "prompt_number": 23,
       "text": [
        "                -10\u22c5x\n",
        "u(x) = C\u2081 + C\u2082\u22c5\u212f     "
       ]
      }
     ],
     "prompt_number": 23
    },
    {
     "cell_type": "code",
     "collapsed": false,
     "input": [
      "cts0 = solve([Eq(s0.rhs.subs(x, 0), 0), Eq(s0.rhs.subs(x, 1), 1)])\n",
      "cts0"
     ],
     "language": "python",
     "metadata": {},
     "outputs": [
      {
       "latex": [
        "$$\\begin{Bmatrix}C_{1} : \\frac{e^{10}}{-1 + e^{10}}, & C_{2} : \\frac{e^{10}}{- e^{10} + 1}\\end{Bmatrix}$$"
       ],
       "metadata": {},
       "output_type": "pyout",
       "png": "[encoded data removed]",
       "prompt_number": 24,
       "text": [
        "\u23a7       10             10   \u23ab\n",
        "\u23aa      \u212f              \u212f     \u23aa\n",
        "\u23a8C\u2081: \u2500\u2500\u2500\u2500\u2500\u2500\u2500\u2500, C\u2082: \u2500\u2500\u2500\u2500\u2500\u2500\u2500\u2500\u2500\u23ac\n",
        "\u23aa          10         10    \u23aa\n",
        "\u23a9    -1 + \u212f        - \u212f   + 1\u23ad"
       ]
      }
     ],
     "prompt_number": 24
    },
    {
     "cell_type": "code",
     "collapsed": false,
     "input": [
      "sol0 = s0.rhs.subs(cts0)\n",
      "sol0"
     ],
     "language": "python",
     "metadata": {},
     "outputs": [
      {
       "latex": [
        "$$\\frac{e^{10}}{-1 + e^{10}} + \\frac{e^{10} e^{- 10 x}}{- e^{10} + 1}$$"
       ],
       "metadata": {},
       "output_type": "pyout",
       "png": "[encoded data removed]",
       "prompt_number": 25,
       "text": [
        "   10       10  -10\u22c5x\n",
        "  \u212f        \u212f  \u22c5\u212f     \n",
        "\u2500\u2500\u2500\u2500\u2500\u2500\u2500\u2500 + \u2500\u2500\u2500\u2500\u2500\u2500\u2500\u2500\u2500\u2500\n",
        "      10      10     \n",
        "-1 + \u212f     - \u212f   + 1 "
       ]
      }
     ],
     "prompt_number": 25
    },
    {
     "cell_type": "code",
     "collapsed": false,
     "input": [
      "plot(sol0, (x, 0, 1))"
     ],
     "language": "python",
     "metadata": {},
     "outputs": [
      {
       "metadata": {},
       "output_type": "display_data",
       "png": "[encoded data removed]",
       "text": [
        "<matplotlib.figure.Figure at 0xbb2a358>"
       ]
      },
      {
       "metadata": {},
       "output_type": "pyout",
       "prompt_number": 26,
       "text": [
        "<sympy.plotting.plot.Plot at 0xbafdb38>"
       ]
      }
     ],
     "prompt_number": 26
    },
    {
     "cell_type": "markdown",
     "metadata": {},
     "source": [
      "#### Compara\u00e7\u00e3o FEM e anal\u00edtica"
     ]
    },
    {
     "cell_type": "code",
     "collapsed": false,
     "input": [
      "FEM = K.subs(sigma, 0).subs(epsilon, 0.1).solve(F.subs(sigma, 0).subs(epsilon, 0.1))\n",
      "FEM"
     ],
     "language": "python",
     "metadata": {},
     "outputs": [
      {
       "latex": [
        "$$\\left[\\begin{matrix}1.11128048780488\\\\0.987804878048781\\\\1.0015243902439\\end{matrix}\\right]$$"
       ],
       "metadata": {},
       "output_type": "pyout",
       "png": "[encoded data removed]",
       "prompt_number": 27,
       "text": [
        "\u23a11.11128048780488 \u23a4\n",
        "\u23a2                 \u23a5\n",
        "\u23a20.987804878048781\u23a5\n",
        "\u23a2                 \u23a5\n",
        "\u23a3 1.0015243902439 \u23a6"
       ]
      }
     ],
     "prompt_number": 27
    },
    {
     "cell_type": "code",
     "collapsed": false,
     "input": [
      "ANA = Matrix([sol0.subs(x, 0.25).evalf(), sol0.subs(x, 0.5).evalf(), sol0.subs(x, 0.75).evalf()])\n",
      "ANA"
     ],
     "language": "python",
     "metadata": {},
     "outputs": [
      {
       "latex": [
        "$$\\left[\\begin{matrix}0.917956676544741\\\\0.993307149075715\\\\0.99949229250973\\end{matrix}\\right]$$"
       ],
       "metadata": {},
       "output_type": "pyout",
       "png": "[encoded data removed]",
       "prompt_number": 28,
       "text": [
        "\u23a10.917956676544741\u23a4\n",
        "\u23a2                 \u23a5\n",
        "\u23a20.993307149075715\u23a5\n",
        "\u23a2                 \u23a5\n",
        "\u23a30.99949229250973 \u23a6"
       ]
      }
     ],
     "prompt_number": 28
    },
    {
     "cell_type": "code",
     "collapsed": false,
     "input": [
      "fig  = plt.figure()\n",
      "plt.plot([0.25, 0.5, 0.75], ANA, label=\"Sol analitica\", marker='o')\n",
      "plt.plot([0.25, 0.5, 0.75], FEM, label=\"Sol FEM\")\n",
      "plt.ylim(0, 1.5)\n",
      "plt.legend(loc=4)"
     ],
     "language": "python",
     "metadata": {},
     "outputs": [
      {
       "metadata": {},
       "output_type": "pyout",
       "prompt_number": 29,
       "text": [
        "<matplotlib.legend.Legend at 0xcd67630>"
       ]
      },
      {
       "metadata": {},
       "output_type": "display_data",
       "png": "[encoded data removed]",
       "text": [
        "<matplotlib.figure.Figure at 0xbcdabe0>"
       ]
      }
     ],
     "prompt_number": 29
    },
    {
     "cell_type": "markdown",
     "metadata": {},
     "source": [
      "## Solu\u00e7\u00e3o anal\u00edtica \\sigma = 1, \\epsilon = 0.1"
     ]
    },
    {
     "cell_type": "code",
     "collapsed": false,
     "input": [
      "s1 = dsolve(f.subs(sigma, 1).subs(epsilon, 0.1))\n",
      "s1"
     ],
     "language": "python",
     "metadata": {},
     "outputs": [
      {
       "latex": [
        "$$u{\\left (x \\right )} = C_{1} e^{x \\left(-5 - \\sqrt{15}\\right)} + C_{2} e^{x \\left(-5 + \\sqrt{15}\\right)}$$"
       ],
       "metadata": {},
       "output_type": "pyout",
       "png": "[encoded data removed]",
       "prompt_number": 30,
       "text": [
        "             \u239b       ____\u239e         \u239b       ____\u239e\n",
        "           x\u22c5\u239d-5 - \u2572\u2571 15 \u23a0       x\u22c5\u239d-5 + \u2572\u2571 15 \u23a0\n",
        "u(x) = C\u2081\u22c5\u212f                + C\u2082\u22c5\u212f               "
       ]
      }
     ],
     "prompt_number": 30
    },
    {
     "cell_type": "code",
     "collapsed": false,
     "input": [
      "cts1 = solve([Eq(s1.rhs.subs(x, 0), 0), Eq(s1.rhs.subs(x, 1), 1)])\n",
      "cts1"
     ],
     "language": "python",
     "metadata": {},
     "outputs": [
      {
       "latex": [
        "$$\\begin{Bmatrix}C_{1} : \\frac{e^{\\sqrt{15} + 10}}{- e^{5 + 2 \\sqrt{15}} + e^{5}}, & C_{2} : \\frac{e^{\\sqrt{15} + 5}}{-1 + e^{2 \\sqrt{15}}}\\end{Bmatrix}$$"
       ],
       "metadata": {},
       "output_type": "pyout",
       "png": "[encoded data removed]",
       "prompt_number": 31,
       "text": [
        "\u23a7           ____                   ____      \u23ab\n",
        "\u23aa         \u2572\u2571 15  + 10            \u2572\u2571 15  + 5  \u23aa\n",
        "\u23aa        \u212f                      \u212f            \u23aa\n",
        "\u23a8C\u2081: \u2500\u2500\u2500\u2500\u2500\u2500\u2500\u2500\u2500\u2500\u2500\u2500\u2500\u2500\u2500\u2500\u2500\u2500\u2500\u2500, C\u2082: \u2500\u2500\u2500\u2500\u2500\u2500\u2500\u2500\u2500\u2500\u2500\u2500\u2500\u2500\u23ac\n",
        "\u23aa               ____                     ____\u23aa\n",
        "\u23aa       5 + 2\u22c5\u2572\u2571 15     5            2\u22c5\u2572\u2571 15 \u23aa\n",
        "\u23a9    - \u212f             + \u212f       -1 + \u212f        \u23ad"
       ]
      }
     ],
     "prompt_number": 31
    },
    {
     "cell_type": "code",
     "collapsed": false,
     "input": [
      "sol1 = s1.rhs.subs(cts1)\n",
      "sol1"
     ],
     "language": "python",
     "metadata": {},
     "outputs": [
      {
       "latex": [
        "$$\\frac{e^{x \\left(-5 - \\sqrt{15}\\right)} e^{\\sqrt{15} + 10}}{- e^{5 + 2 \\sqrt{15}} + e^{5}} + \\frac{e^{x \\left(-5 + \\sqrt{15}\\right)} e^{\\sqrt{15} + 5}}{-1 + e^{2 \\sqrt{15}}}$$"
       ],
       "metadata": {},
       "output_type": "pyout",
       "png": "[encoded data removed]",
       "prompt_number": 32,
       "text": [
        "   \u239b       ____\u239e    ____           \u239b       ____\u239e    ____    \n",
        " x\u22c5\u239d-5 - \u2572\u2571 15 \u23a0  \u2572\u2571 15  + 10    x\u22c5\u239d-5 + \u2572\u2571 15 \u23a0  \u2572\u2571 15  + 5\n",
        "\u212f               \u22c5\u212f              \u212f               \u22c5\u212f          \n",
        "\u2500\u2500\u2500\u2500\u2500\u2500\u2500\u2500\u2500\u2500\u2500\u2500\u2500\u2500\u2500\u2500\u2500\u2500\u2500\u2500\u2500\u2500\u2500\u2500\u2500\u2500\u2500\u2500\u2500 + \u2500\u2500\u2500\u2500\u2500\u2500\u2500\u2500\u2500\u2500\u2500\u2500\u2500\u2500\u2500\u2500\u2500\u2500\u2500\u2500\u2500\u2500\u2500\u2500\u2500\u2500\u2500\u2500\n",
        "                ____                             ____       \n",
        "        5 + 2\u22c5\u2572\u2571 15     5                    2\u22c5\u2572\u2571 15        \n",
        "     - \u212f             + \u212f               -1 + \u212f               "
       ]
      }
     ],
     "prompt_number": 32
    },
    {
     "cell_type": "code",
     "collapsed": false,
     "input": [
      "plot(sol1, (x, 0, 1))"
     ],
     "language": "python",
     "metadata": {},
     "outputs": [
      {
       "metadata": {},
       "output_type": "display_data",
       "png": "[encoded data removed]",
       "text": [
        "<matplotlib.figure.Figure at 0xcc9c0b8>"
       ]
      },
      {
       "metadata": {},
       "output_type": "pyout",
       "prompt_number": 33,
       "text": [
        "<sympy.plotting.plot.Plot at 0xcc6f940>"
       ]
      }
     ],
     "prompt_number": 33
    },
    {
     "cell_type": "markdown",
     "metadata": {},
     "source": [
      "#### Compara\u00e7\u00e3o FEM e anal\u00edtica"
     ]
    },
    {
     "cell_type": "code",
     "collapsed": false,
     "input": [
      "FEM = K.subs(sigma, 1).subs(epsilon, 0.1).solve(F.subs(sigma, 1).subs(epsilon, 0.1))\n",
      "FEM"
     ],
     "language": "python",
     "metadata": {},
     "outputs": [
      {
       "latex": [
        "$$\\left[\\begin{matrix}2.23773980343629\\\\1.50502854036423\\\\1.15085263444014\\end{matrix}\\right]$$"
       ],
       "metadata": {},
       "output_type": "pyout",
       "png": "[encoded data removed]",
       "prompt_number": 34,
       "text": [
        "\u23a12.23773980343629\u23a4\n",
        "\u23a2                \u23a5\n",
        "\u23a21.50502854036423\u23a5\n",
        "\u23a2                \u23a5\n",
        "\u23a31.15085263444014\u23a6"
       ]
      }
     ],
     "prompt_number": 34
    },
    {
     "cell_type": "code",
     "collapsed": false,
     "input": [
      "ANA = Matrix([sol1.subs(x, 0.25).evalf(), sol0.subs(x, 0.5).evalf(), sol0.subs(x, 0.75).evalf()])\n",
      "ANA"
     ],
     "language": "python",
     "metadata": {},
     "outputs": [
      {
       "latex": [
        "$$\\left[\\begin{matrix}1.9936477098697\\\\0.993307149075715\\\\0.99949229250973\\end{matrix}\\right]$$"
       ],
       "metadata": {},
       "output_type": "pyout",
       "png": "[encoded data removed]",
       "prompt_number": 35,
       "text": [
        "\u23a1 1.9936477098697 \u23a4\n",
        "\u23a2                 \u23a5\n",
        "\u23a20.993307149075715\u23a5\n",
        "\u23a2                 \u23a5\n",
        "\u23a30.99949229250973 \u23a6"
       ]
      }
     ],
     "prompt_number": 35
    },
    {
     "cell_type": "code",
     "collapsed": false,
     "input": [
      "fig  = plt.figure()\n",
      "plt.plot([0.25, 0.5, 0.75], ANA, label=\"Sol analitica\", marker='o')\n",
      "plt.plot([0.25, 0.5, 0.75], FEM, label=\"Sol FEM\")\n",
      "plt.ylim(0, 2.5)\n",
      "plt.legend(loc=4)"
     ],
     "language": "python",
     "metadata": {},
     "outputs": [
      {
       "metadata": {},
       "output_type": "pyout",
       "prompt_number": 36,
       "text": [
        "<matplotlib.legend.Legend at 0xd2d0ef0>"
       ]
      },
      {
       "metadata": {},
       "output_type": "display_data",
       "png": "[encoded data removed]",
       "text": [
        "<matplotlib.figure.Figure at 0xd26bf98>"
       ]
      }
     ],
     "prompt_number": 36
    },
    {
     "cell_type": "markdown",
     "metadata": {},
     "source": [
      "## Solu\u00e7\u00e3o anal\u00edtica \\sigma = -1, \\epsilon = 0.1"
     ]
    },
    {
     "cell_type": "code",
     "collapsed": false,
     "input": [
      "s2 = dsolve(f.subs(sigma, -1).subs(epsilon, 0.1))\n",
      "s2"
     ],
     "language": "python",
     "metadata": {},
     "outputs": [
      {
       "latex": [
        "$$u{\\left (x \\right )} = C_{1} e^{x \\left(-5 + \\sqrt{35}\\right)} + C_{2} e^{x \\left(- \\sqrt{35} - 5\\right)}$$"
       ],
       "metadata": {},
       "output_type": "pyout",
       "png": "[encoded data removed]",
       "prompt_number": 37,
       "text": [
        "             \u239b       ____\u239e         \u239b    ____    \u239e\n",
        "           x\u22c5\u239d-5 + \u2572\u2571 35 \u23a0       x\u22c5\u239d- \u2572\u2571 35  - 5\u23a0\n",
        "u(x) = C\u2081\u22c5\u212f                + C\u2082\u22c5\u212f                "
       ]
      }
     ],
     "prompt_number": 37
    },
    {
     "cell_type": "code",
     "collapsed": false,
     "input": [
      "cts2 = solve([Eq(s2.rhs.subs(x, 0), 0), Eq(s2.rhs.subs(x, 1), 1)])\n",
      "cts2"
     ],
     "language": "python",
     "metadata": {},
     "outputs": [
      {
       "latex": [
        "$$\\begin{Bmatrix}C_{1} : - \\frac{e^{5 + \\sqrt{35}}}{- e^{2 \\sqrt{35}} + 1}, & C_{2} : \\frac{e^{5 + \\sqrt{35}}}{- e^{2 \\sqrt{35}} + 1}\\end{Bmatrix}$$"
       ],
       "metadata": {},
       "output_type": "pyout",
       "png": "[encoded data removed]",
       "prompt_number": 38,
       "text": [
        "\u23a7             ____                 ____  \u23ab\n",
        "\u23aa       5 + \u2572\u2571 35            5 + \u2572\u2571 35   \u23aa\n",
        "\u23aa     -\u212f                    \u212f            \u23aa\n",
        "\u23a8C\u2081: \u2500\u2500\u2500\u2500\u2500\u2500\u2500\u2500\u2500\u2500\u2500\u2500\u2500\u2500\u2500, C\u2082: \u2500\u2500\u2500\u2500\u2500\u2500\u2500\u2500\u2500\u2500\u2500\u2500\u2500\u2500\u2500\u23ac\n",
        "\u23aa           ____                 ____    \u23aa\n",
        "\u23aa       2\u22c5\u2572\u2571 35              2\u22c5\u2572\u2571 35     \u23aa\n",
        "\u23a9    - \u212f         + 1      - \u212f         + 1\u23ad"
       ]
      }
     ],
     "prompt_number": 38
    },
    {
     "cell_type": "code",
     "collapsed": false,
     "input": [
      "sol2 = s2.rhs.subs(cts2)\n",
      "sol2"
     ],
     "language": "python",
     "metadata": {},
     "outputs": [
      {
       "latex": [
        "$$- \\frac{e^{x \\left(-5 + \\sqrt{35}\\right)} e^{5 + \\sqrt{35}}}{- e^{2 \\sqrt{35}} + 1} + \\frac{e^{x \\left(- \\sqrt{35} - 5\\right)} e^{5 + \\sqrt{35}}}{- e^{2 \\sqrt{35}} + 1}$$"
       ],
       "metadata": {},
       "output_type": "pyout",
       "png": "[encoded data removed]",
       "prompt_number": 39,
       "text": [
        "     \u239b       ____\u239e        ____      \u239b    ____    \u239e        ____\n",
        "   x\u22c5\u239d-5 + \u2572\u2571 35 \u23a0  5 + \u2572\u2571 35     x\u22c5\u239d- \u2572\u2571 35  - 5\u23a0  5 + \u2572\u2571 35 \n",
        "  \u212f               \u22c5\u212f             \u212f                \u22c5\u212f          \n",
        "- \u2500\u2500\u2500\u2500\u2500\u2500\u2500\u2500\u2500\u2500\u2500\u2500\u2500\u2500\u2500\u2500\u2500\u2500\u2500\u2500\u2500\u2500\u2500\u2500\u2500\u2500\u2500\u2500 + \u2500\u2500\u2500\u2500\u2500\u2500\u2500\u2500\u2500\u2500\u2500\u2500\u2500\u2500\u2500\u2500\u2500\u2500\u2500\u2500\u2500\u2500\u2500\u2500\u2500\u2500\u2500\u2500\u2500\n",
        "               ____                            ____           \n",
        "           2\u22c5\u2572\u2571 35                         2\u22c5\u2572\u2571 35            \n",
        "        - \u212f         + 1                 - \u212f         + 1       "
       ]
      }
     ],
     "prompt_number": 39
    },
    {
     "cell_type": "code",
     "collapsed": false,
     "input": [
      "plot(sol2, (x, 0, 1))"
     ],
     "language": "python",
     "metadata": {},
     "outputs": [
      {
       "metadata": {},
       "output_type": "display_data",
       "png": "[encoded data removed]",
       "text": [
        "<matplotlib.figure.Figure at 0xbcda780>"
       ]
      },
      {
       "metadata": {},
       "output_type": "pyout",
       "prompt_number": 40,
       "text": [
        "<sympy.plotting.plot.Plot at 0xd288ac8>"
       ]
      }
     ],
     "prompt_number": 40
    },
    {
     "cell_type": "markdown",
     "metadata": {},
     "source": [
      "#### Compara\u00e7\u00e3o FEM e anal\u00edtica"
     ]
    },
    {
     "cell_type": "code",
     "collapsed": false,
     "input": [
      "FEM = K.subs(sigma, -1).subs(epsilon, 0.1).solve(F.subs(sigma, -1).subs(epsilon, 0.1))\n",
      "FEM"
     ],
     "language": "python",
     "metadata": {},
     "outputs": [
      {
       "latex": [
        "$$\\left[\\begin{matrix}0.636390717838392\\\\0.716711876400519\\\\0.912206018113717\\end{matrix}\\right]$$"
       ],
       "metadata": {},
       "output_type": "pyout",
       "png": "[encoded data removed]",
       "prompt_number": 41,
       "text": [
        "\u23a10.636390717838392\u23a4\n",
        "\u23a2                 \u23a5\n",
        "\u23a20.716711876400519\u23a5\n",
        "\u23a2                 \u23a5\n",
        "\u23a30.912206018113717\u23a6"
       ]
      }
     ],
     "prompt_number": 41
    },
    {
     "cell_type": "code",
     "collapsed": false,
     "input": [
      "ANA = Matrix([sol2.subs(x, 0.25).evalf(), sol0.subs(x, 0.5).evalf(), sol0.subs(x, 0.75).evalf()])\n",
      "ANA"
     ],
     "language": "python",
     "metadata": {},
     "outputs": [
      {
       "latex": [
        "$$\\left[\\begin{matrix}0.476937615387192\\\\0.993307149075715\\\\0.99949229250973\\end{matrix}\\right]$$"
       ],
       "metadata": {},
       "output_type": "pyout",
       "png": "[encoded data removed]",
       "prompt_number": 42,
       "text": [
        "\u23a10.476937615387192\u23a4\n",
        "\u23a2                 \u23a5\n",
        "\u23a20.993307149075715\u23a5\n",
        "\u23a2                 \u23a5\n",
        "\u23a30.99949229250973 \u23a6"
       ]
      }
     ],
     "prompt_number": 42
    },
    {
     "cell_type": "code",
     "collapsed": false,
     "input": [
      "fig  = plt.figure()\n",
      "plt.plot([0.25, 0.5, 0.75], ANA, label=\"Sol analitica\", marker='o')\n",
      "plt.plot([0.25, 0.5, 0.75], FEM, label=\"Sol FEM\")\n",
      "plt.ylim(0, 1.5)\n",
      "plt.legend(loc=4)"
     ],
     "language": "python",
     "metadata": {},
     "outputs": [
      {
       "metadata": {},
       "output_type": "pyout",
       "prompt_number": 43,
       "text": [
        "<matplotlib.legend.Legend at 0xd88bbe0>"
       ]
      },
      {
       "metadata": {},
       "output_type": "display_data",
       "png": "[encoded data removed]",
       "text": [
        "<matplotlib.figure.Figure at 0xd489438>"
       ]
      }
     ],
     "prompt_number": 43
    },
    {
     "cell_type": "code",
     "collapsed": false,
     "input": [],
     "language": "python",
     "metadata": {},
     "outputs": [],
     "prompt_number": 43
    }
   ],
   "metadata": {}
  }
 ]
}