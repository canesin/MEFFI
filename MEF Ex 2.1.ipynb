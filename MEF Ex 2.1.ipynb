{
 "metadata": {
  "name": "",
  "signature": "sha256:68276c7eae586399d026a7fa6b8386a6c7b112b3f282e6c8e9bdbb79442ad3d3"
 },
 "nbformat": 3,
 "nbformat_minor": 0,
 "worksheets": [
  {
   "cells": [
    {
     "cell_type": "markdown",
     "metadata": {},
     "source": [
      "### Exerc\u00edcio 2, solu\u00e7\u00e3o de um problema 2D utilizando estruturas de dados id, ien e lm.\n",
      "#### F\u00e1bio C\u00e9sar Canesin <fabio.canesin@gmail.com> 08/08/2014"
     ]
    },
    {
     "cell_type": "markdown",
     "metadata": {},
     "source": [
      "Obtenha a distribui\u00e7\u00e3o de temperaturas em regime permanente para o problema abaixo:"
     ]
    },
    {
     "cell_type": "markdown",
     "metadata": {},
     "source": [
      "<img src=\"ex2.png\">"
     ]
    },
    {
     "cell_type": "markdown",
     "metadata": {},
     "source": [
      "Definimos primeiramente a representa\u00e7\u00e3o da malha nos arrays ID e IEN. Bem como as condi\u00e7\u00f5es de contorno de Dirichlet fornecidas.\n",
      "Ap\u00f3s definimos as estruturas de dados id, ien e lm. Bem como os indices P e Q.\n"
     ]
    },
    {
     "cell_type": "code",
     "collapsed": false,
     "input": [
      "from sympy import *\n",
      "%matplotlib inline\n",
      "\n",
      "# Coordenadas dos n\u00f3s\n",
      "X = [[0, 0], [Rational(1,3), 0], [Rational(2,3), 0], [1, 0],\n",
      "     [0, Rational(1,3)], [Rational(1,3), Rational(1,3)], [Rational(2,3), Rational(1,3)], [1, Rational(1,3)],\n",
      "     [0, Rational(2,3)], [Rational(1,3), Rational(2,3)], [Rational(2,3), Rational(2,3)], [1, Rational(2,3)],\n",
      "     [0, 1], [Rational(1,3), 1], [Rational(2,3), 1], [1, 1]]\n",
      "\n",
      "# Conectividade\n",
      "IEN = [[1, 6, 5], [1, 2, 6], [2, 7, 6], [2, 3, 7], [3, 8, 7], [3, 4, 8],\n",
      "       [5, 10, 9], [5, 6, 10], [6, 11, 10], [6, 7, 11], [7, 12, 11], [7, 8, 12],\n",
      "       [9, 14, 13], [9, 10, 14], [10, 15, 14], [10, 11, 15], [11, 16, 15], [11, 12, 16]]\n",
      "\n",
      "# Arranjo de destina\u00e7\u00f5es, forma 2D id(grau de liberdade, n\u00f3 global)\n",
      "ID = [[0], [0], [0], [0],\n",
      "      [0], [1], [2], [0],\n",
      "      [0], [3], [4], [0],\n",
      "      [0], [0], [0], [0]]\n",
      "\n",
      "# Condi\u00e7\u00f5es de contorno de Dirichlet\n",
      "G = [0, Rational(1, 3), Rational(2, 3), 1,\n",
      "     Rational(1, 3), 0, 0, Rational(1, 3)**2 + 1,\n",
      "     Rational(2, 3), 0, 0, Rational(2, 3)**2 + 1,\n",
      "     1, Rational(1, 3)**2 + 1, Rational(2, 3)**2 + 1, 2]\n",
      "\n",
      "# Numero de elemetos\n",
      "Nel = len(IEN)\n",
      "# Numero de c.c. de Dirichlet\n",
      "Nq = sum([1 for a in ID if a[0] == 0])\n",
      "\n",
      "def id_fem(i, A):\n",
      "    \"\"\"Estrutura de dados id, input:\n",
      "       i : grau de liberdade\n",
      "       A : n\u00f3 global\n",
      "    \"\"\"\n",
      "    return ID[A-1][i-1]\n",
      "\n",
      "def ien(a, e):\n",
      "    \"\"\"Estrutura de dados ien, input:\n",
      "       a : numero local do n\u00f3\n",
      "       e : numero do elemento\n",
      "    \"\"\"\n",
      "    return IEN[e-1][a-1]\n",
      "\n",
      "def lm(i, a, e):\n",
      "    \"\"\"Estrutura de dados lm, input:\n",
      "       i : grau de liberdade\n",
      "       a : numero local do n\u00f3\n",
      "       e : numero do elemento\n",
      "    \"\"\"\n",
      "    return id_fem(i, ien(a, e))\n",
      "\n",
      "def P(A):\n",
      "    \"\"\"Indice P para Calor\"\"\"\n",
      "    return id_fem(1, A)\n",
      "\n",
      "def Q(B):\n",
      "    \"\"\"Indice Q para Calor\"\"\"\n",
      "    return id_fem(1, B)"
     ],
     "language": "python",
     "metadata": {},
     "outputs": [],
     "prompt_number": 2
    },
    {
     "cell_type": "markdown",
     "metadata": {},
     "source": [
      "Definimos agora as fun\u00e7\u00f5es respons\u00e1veis pela condi\u00e7\u00e3o de contorno de Dirichlet g e pelas integrais nos elementos triangulares linear"
     ]
    },
    {
     "cell_type": "code",
     "collapsed": false,
     "input": [
      "def g(a, e):\n",
      "    \"\"\"Retorna g para condi\u00e7\u00e3o de contorno de Dirichlet, input:\n",
      "       a : numero local do n\u00f3\n",
      "       e : numero do elemento\n",
      "    \"\"\"\n",
      "    if lm(1, a, e) == 0:\n",
      "        return 0\n",
      "    else:\n",
      "        return G[ien(a, e)]"
     ],
     "language": "python",
     "metadata": {},
     "outputs": [],
     "prompt_number": 3
    },
    {
     "cell_type": "code",
     "collapsed": false,
     "input": [],
     "language": "python",
     "metadata": {},
     "outputs": [],
     "prompt_number": 4
    }
   ],
   "metadata": {}
  }
 ]
}