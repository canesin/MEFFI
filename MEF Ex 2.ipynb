{
 "metadata": {
  "name": "",
  "signature": "sha256:3c707316fbf268ad1095cce5cfea7447fcded146b2adc5c2196c9eaeeaad28ab"
 },
 "nbformat": 3,
 "nbformat_minor": 0,
 "worksheets": [
  {
   "cells": [
    {
     "cell_type": "markdown",
     "metadata": {},
     "source": [
      "### Exerc\u00edcio 2, solu\u00e7\u00e3o de um problema 2D utilizando estruturas de dados id, ien e lm.\n",
      "#### F\u00e1bio C\u00e9sar Canesin <fabio.canesin@gmail.com> 08/08/2014"
     ]
    },
    {
     "cell_type": "markdown",
     "metadata": {},
     "source": [
      "Obtenha a distribui\u00e7\u00e3o de temperaturas em regime permanente para o problema abaixo:"
     ]
    },
    {
     "cell_type": "markdown",
     "metadata": {},
     "source": [
      "<img src=\"ex2.png\">"
     ]
    },
    {
     "cell_type": "markdown",
     "metadata": {},
     "source": [
      "Definimos primeiramente a representa\u00e7\u00e3o da malha nos arrays ID e IEN. Bem como as condi\u00e7\u00f5es de contorno de Dirichlet fornecidas.\n",
      "Ap\u00f3s definimos as estruturas de dados id, ien e lm. Bem como os indices P e Q.\n"
     ]
    },
    {
     "cell_type": "code",
     "collapsed": false,
     "input": [
      "from sympy import *\n",
      "%matplotlib inline\n",
      "\n",
      "# Coordenadas dos n\u00f3s\n",
      "X = [[0, 0], [Rational(1,3), 0], [Rational(2,3), 0], [1, 0],\n",
      "     [0, Rational(1,3)], [Rational(1,3), Rational(1,3)], [Rational(2,3), Rational(1,3)], [1, Rational(1,3)],\n",
      "     [0, Rational(2,3)], [Rational(1,3), Rational(2,3)], [Rational(2,3), Rational(2,3)], [1, Rational(2,3)],\n",
      "     [0, 1], [Rational(1,3), 1], [Rational(2,3), 1], [1, 1]]\n",
      "\n",
      "# Conectividade\n",
      "IEN = [[1, 6, 5], [1, 2, 6], [2, 7, 6], [2, 3, 7], [3, 8, 7], [3, 4, 8],\n",
      "       [5, 10, 9], [5, 6, 10], [6, 11, 10], [6, 7, 11], [7, 12, 11], [7, 8, 12],\n",
      "       [9, 14, 13], [9, 10, 14], [10, 15, 14], [10, 11, 15], [11, 16, 15], [11, 12, 16]]\n",
      "\n",
      "# Numeracao das equa\u00e7\u00f5es\n",
      "ID = [[0], [0], [0], [0],\n",
      "      [0], [1], [2], [0],\n",
      "      [0], [3], [4], [0],\n",
      "      [0], [0], [0], [0]]\n",
      "\n",
      "# Condi\u00e7\u00f5es de contorno de Dirichlet\n",
      "G = [0, Rational(1, 3), Rational(2, 3), 1,\n",
      "     Rational(1, 3), 0, 0, Rational(1, 3)**2 + 1,\n",
      "     Rational(2, 3), 0, 0, Rational(2, 3)**2 + 1,\n",
      "     1, Rational(1, 3)**2 + 1, Rational(2, 3)**2 + 1, 2]\n",
      "\n",
      "# Numero de elemetos\n",
      "Nel = len(IEN)\n",
      "# Numero de c.c. de Dirichlet\n",
      "Nq = sum([1 for a in ID if a[0] == 0])\n",
      "\n",
      "def id_fem(i, A):\n",
      "    \"\"\"Estrutura de dados id, input:\n",
      "       i : grau de liberdade\n",
      "       A : n\u00f3 global\n",
      "    \"\"\"\n",
      "    return ID[A-1][i-1]\n",
      "\n",
      "def ien(a, e):\n",
      "    \"\"\"Estrutura de dados ien, input:\n",
      "       a : numero local do n\u00f3\n",
      "       e : numero do elemento\n",
      "    \"\"\"\n",
      "    return IEN[e-1][a-1]\n",
      "\n",
      "def lm(a, e, i=1):\n",
      "    \"\"\"Matriz de localiza\u00e7\u00e3o, input:\n",
      "       i : grau de liberdade\n",
      "       a : numero local do n\u00f3\n",
      "       e : numero do elemento\n",
      "    \"\"\"\n",
      "    return id_fem(i, ien(a, e))\n",
      "\n",
      "def P(A):\n",
      "    \"\"\"Indice P para equa\u00e7\u00e3o de poisson\"\"\"\n",
      "    return id_fem(1, A)\n",
      "\n",
      "def Q(B):\n",
      "    \"\"\"Indice Q para equa\u00e7\u00e3o de poisson\"\"\"\n",
      "    return id_fem(1, B)"
     ],
     "language": "python",
     "metadata": {},
     "outputs": [],
     "prompt_number": 1
    },
    {
     "cell_type": "markdown",
     "metadata": {},
     "source": [
      "Definimos agora as fun\u00e7\u00f5es respons\u00e1veis pela condi\u00e7\u00e3o de contorno de Dirichlet g e pelas integrais nos elementos triangulares linear"
     ]
    },
    {
     "cell_type": "code",
     "collapsed": false,
     "input": [
      "def g(a, e):\n",
      "    \"\"\"Retorna g para condi\u00e7\u00e3o de contorno de Dirichlet, input:\n",
      "       a : numero local do n\u00f3\n",
      "       e : numero do elemento\n",
      "    \"\"\"\n",
      "    if lm(a, e) == 0:\n",
      "        return G[ien(a, e)-1]\n",
      "    else:\n",
      "        return 0"
     ],
     "language": "python",
     "metadata": {},
     "outputs": [],
     "prompt_number": 2
    },
    {
     "cell_type": "markdown",
     "metadata": {},
     "source": [
      "<img src=\"ex2.1.png\">"
     ]
    },
    {
     "cell_type": "code",
     "collapsed": false,
     "input": [
      "#Fun\u00e7\u00f5es auxiliares para diferen\u00e7a entre n\u00f3s i,j de cada elemento\n",
      "def xij(i, j, e):\n",
      "    return X[ien(i, e) - 1][0] - X[ien(j, e) - 1][0]\n",
      "def yij(i, j, e):\n",
      "    return X[ien(i, e) - 1][1] - X[ien(j, e) - 1][1]\n",
      "\n",
      "def Ke(e, K=1.0):\n",
      "    \"\"\"Calcula a submatrix de rigidez Ke para o elemento\n",
      "    \"\"\"\n",
      "    def x(i, j):\n",
      "        return xij(i, j, e)\n",
      "    def y(i, j):\n",
      "        return yij(i, j, e)\n",
      "\n",
      "    kx = ky = K # Material Isotropico\n",
      "    \n",
      "    A = Rational(0.5) * (x(2, 1)*y(3, 1) - x(3, 1)*y(2, 1))\n",
      "    if A < 0:\n",
      "        raise Exception(\"Area negativa, verifique ordem dos nos\")\n",
      "    \n",
      "    K11 = y(2, 3) * kx * y(2, 3) + x(3, 2) * ky * x(3, 2)\n",
      "    K12 = y(2, 3) * kx * y(3, 1) + x(3, 2) * ky * x(1, 3)\n",
      "    K13 = y(2, 3) * kx * y(1, 2) + x(3, 2) * ky * x(2, 1)\n",
      "    K21 = K12\n",
      "    K22 = y(3, 1) * kx * y(3, 1) + x(1, 3) * ky * x(1, 3)\n",
      "    K23 = y(3, 1) * kx * y(1, 2) + x(1, 3) * ky * x(2, 1)\n",
      "    K31 = K13\n",
      "    K32 = K23\n",
      "    K33 = y(1, 2) * kx * y(1, 2) + x(2, 1) * ky * x(2, 1)\n",
      "\n",
      "    return (1.0/(4*A)) * Matrix([[K11, K12, K13], [K21, K22, K23], [K31, K32, K33]])\n",
      "\n",
      "def Fe(e, K=1.0):\n",
      "    \"\"\"Calcula o subvetor de for\u00e7as do elemento\n",
      "    \"\"\"\n",
      "    def x(i, j):\n",
      "        return xij(i, j, e)\n",
      "    def y(i, j):\n",
      "        return yij(i, j, e)\n",
      "\n",
      "    kx = ky = K # Material Isotropico\n",
      "    \n",
      "    A = Rational(0.5) * (x(2, 1)*y(3, 1) - x(3, 1)*y(2, 1))\n",
      "    if A < 0:\n",
      "        raise Exception(\"Area negativa, verifique ordem dos nos\")\n",
      "        \n",
      "    ke = Ke(e, K)\n",
      "\n",
      "    F1 = -sum([ke[0, b - 1]*g(b, e) for b in (1, 2, 3)])\n",
      "    F2 = -sum([ke[1, b - 1]*g(b, e) for b in (1, 2, 3)])\n",
      "    F3 = -sum([ke[2, b - 1]*g(b, e) for b in (1, 2, 3)])\n",
      "    \n",
      "    return Matrix([F1, F2, F3])"
     ],
     "language": "python",
     "metadata": {},
     "outputs": [],
     "prompt_number": 3
    },
    {
     "cell_type": "code",
     "collapsed": false,
     "input": [
      "# Numero de equa\u00e7\u00f5es (numero de n\u00f3s n\u00e3o em g)\n",
      "Nng = sum(sum(1 for i in row if i) for row in ID)\n",
      "# Inicializando matriz de rigidez com zeros\n",
      "K = Matrix(Nng, Nng, [0]*(Nng**2))\n",
      "# Inicializando vetor de for\u00e7as com zeros\n",
      "F = Matrix(Nng, 1, [0]*(Nng))"
     ],
     "language": "python",
     "metadata": {},
     "outputs": [],
     "prompt_number": 17
    },
    {
     "cell_type": "code",
     "collapsed": false,
     "input": [
      "# Assembly das equa\u00e7\u00f5es:\n",
      "for e in range(1, Nel + 1):\n",
      "    ke = Ke(e)\n",
      "    fe = Fe(e)\n",
      "    adr = []\n",
      "    for dof in (1, 2, 3):\n",
      "        adr.append(lm(dof, e))\n",
      "    \n",
      "    K[dest, dest] += Ke[1, dof]\n",
      "        "
     ],
     "language": "python",
     "metadata": {},
     "outputs": [
      {
       "metadata": {},
       "output_type": "pyout",
       "prompt_number": 18,
       "text": [
        "Matrix([\n",
        "[0],\n",
        "[0],\n",
        "[0],\n",
        "[0]])"
       ]
      }
     ],
     "prompt_number": 18
    },
    {
     "cell_type": "code",
     "collapsed": false,
     "input": [],
     "language": "python",
     "metadata": {},
     "outputs": []
    }
   ],
   "metadata": {}
  }
 ]
}