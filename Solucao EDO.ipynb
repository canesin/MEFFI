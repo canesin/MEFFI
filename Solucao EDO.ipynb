{
 "metadata": {
  "name": "",
  "signature": "sha256:9dca52c1fe15f1eea29881da182f4d3a222ad5deaa5dd16063a9f59ffefedef5"
 },
 "nbformat": 3,
 "nbformat_minor": 0,
 "worksheets": [
  {
   "cells": [
    {
     "cell_type": "code",
     "collapsed": false,
     "input": [
      "from sympy import *\n",
      "from sympy.interactive import printing\n",
      "\n",
      "printing.init_printing(use_latex=True)\n",
      "\n",
      "x, b = symbols('x b')\n",
      "alpha_1, alpha_2, alpha_3 = symbols('alpha_1 alpha_2 alpha_3')\n",
      "beta_1, beta_2, beta_3 = symbols('beta_1 beta_2 beta_3')\n",
      "\n",
      "f, U, w, R, L, Delta = symbols('f U w R L Delta', cls=Function)\n"
     ],
     "language": "python",
     "metadata": {},
     "outputs": [],
     "prompt_number": 373
    },
    {
     "cell_type": "code",
     "collapsed": false,
     "input": [
      "diffeq = Eq(f(x).diff(x, x) - 2*f(x).diff(x) + f(x))"
     ],
     "language": "python",
     "metadata": {},
     "outputs": [],
     "prompt_number": 374
    },
    {
     "cell_type": "code",
     "collapsed": false,
     "input": [
      "diffeq"
     ],
     "language": "python",
     "metadata": {},
     "outputs": [
      {
       "latex": [
        "$$f{\\left (x \\right )} - 2 \\frac{d}{d x} f{\\left (x \\right )} + \\frac{d^{2}}{d x^{2}}  f{\\left (x \\right )} = 0$$"
       ],
       "metadata": {},
       "output_type": "pyout",
       "png": "[encoded data removed]",
       "prompt_number": 375,
       "text": [
        "                      2          \n",
        "         d           d           \n",
        "f(x) - 2\u22c5\u2500\u2500(f(x)) + \u2500\u2500\u2500(f(x)) = 0\n",
        "         dx           2          \n",
        "                    dx           "
       ]
      }
     ],
     "prompt_number": 375
    },
    {
     "cell_type": "code",
     "collapsed": false,
     "input": [
      "solucao = dsolve(diffeq, f(x))"
     ],
     "language": "python",
     "metadata": {},
     "outputs": [],
     "prompt_number": 376
    },
    {
     "cell_type": "code",
     "collapsed": false,
     "input": [
      "solucao"
     ],
     "language": "python",
     "metadata": {},
     "outputs": [
      {
       "latex": [
        "$$f{\\left (x \\right )} = \\left(C_{1} + C_{2} x\\right) e^{x}$$"
       ],
       "metadata": {},
       "output_type": "pyout",
       "png": "[encoded data removed]",
       "prompt_number": 377,
       "text": [
        "                    x\n",
        "f(x) = (C\u2081 + C\u2082\u22c5x)\u22c5\u212f "
       ]
      }
     ],
     "prompt_number": 377
    },
    {
     "cell_type": "code",
     "collapsed": false,
     "input": [
      "solucao.subs(x, 0)"
     ],
     "language": "python",
     "metadata": {},
     "outputs": [
      {
       "latex": [
        "$$f{\\left (0 \\right )} = C_{1}$$"
       ],
       "metadata": {},
       "output_type": "pyout",
       "png": "[encoded data removed]",
       "prompt_number": 378,
       "text": [
        "f(0) = C\u2081"
       ]
      }
     ],
     "prompt_number": 378
    },
    {
     "cell_type": "code",
     "collapsed": false,
     "input": [
      "solucao.subs(x, 1)"
     ],
     "language": "python",
     "metadata": {},
     "outputs": [
      {
       "latex": [
        "$$f{\\left (1 \\right )} = e \\left(C_{1} + C_{2}\\right)$$"
       ],
       "metadata": {},
       "output_type": "pyout",
       "png": "[encoded data removed]",
       "prompt_number": 379,
       "text": [
        "f(1) = \u212f\u22c5(C\u2081 + C\u2082)"
       ]
      }
     ],
     "prompt_number": 379
    },
    {
     "cell_type": "code",
     "collapsed": false,
     "input": [
      "Uf = x*(1 - x)*(alpha_1 + alpha_2*x +alpha_3*(x**2))"
     ],
     "language": "python",
     "metadata": {},
     "outputs": [],
     "prompt_number": 380
    },
    {
     "cell_type": "code",
     "collapsed": false,
     "input": [
      "Eq(U, Uf)"
     ],
     "language": "python",
     "metadata": {},
     "outputs": [
      {
       "latex": [
        "$$U = x \\left(- x + 1\\right) \\left(\\alpha_{1} + \\alpha_{2} x + \\alpha_{3} x^{2}\\right)$$"
       ],
       "metadata": {},
       "output_type": "pyout",
       "png": "[encoded data removed]",
       "prompt_number": 381,
       "text": [
        "               \u239b                2\u239e\n",
        "U = x\u22c5(-x + 1)\u22c5\u239d\u03b1\u2081 + \u03b1\u2082\u22c5x + \u03b1\u2083\u22c5x \u23a0"
       ]
      }
     ],
     "prompt_number": 381
    },
    {
     "cell_type": "code",
     "collapsed": false,
     "input": [
      "Eq(R, expand(Uf - 2*Uf.diff(x) + Uf.diff(x, x)))"
     ],
     "language": "python",
     "metadata": {},
     "outputs": [
      {
       "latex": [
        "$$R = - \\alpha_{1} x^{2} + 5 \\alpha_{1} x - 4 \\alpha_{1} - \\alpha_{2} x^{3} + 7 \\alpha_{2} x^{2} - 10 \\alpha_{2} x + 2 \\alpha_{2} - \\alpha_{3} x^{4} + 9 \\alpha_{3} x^{3} - 18 \\alpha_{3} x^{2} + 6 \\alpha_{3} x$$"
       ],
       "metadata": {},
       "output_type": "pyout",
       "png": "[encoded data removed]",
       "prompt_number": 382,
       "text": [
        "          2                       3         2                        4        \n",
        "R = - \u03b1\u2081\u22c5x  + 5\u22c5\u03b1\u2081\u22c5x - 4\u22c5\u03b1\u2081 - \u03b1\u2082\u22c5x  + 7\u22c5\u03b1\u2082\u22c5x  - 10\u22c5\u03b1\u2082\u22c5x + 2\u22c5\u03b1\u2082 - \u03b1\u2083\u22c5x  + 9\u22c5\u03b1\u2083\u22c5\n",
        "\n",
        " 3          2         \n",
        "x  - 18\u22c5\u03b1\u2083\u22c5x  + 6\u22c5\u03b1\u2083\u22c5x"
       ]
      }
     ],
     "prompt_number": 382
    },
    {
     "cell_type": "code",
     "collapsed": false,
     "input": [
      "Rf = expand(Uf - 2*Uf.diff(x) + Uf.diff(x, x))"
     ],
     "language": "python",
     "metadata": {},
     "outputs": [],
     "prompt_number": 383
    },
    {
     "cell_type": "code",
     "collapsed": false,
     "input": [
      "Eq(w, beta_1*Delta(x - Rational(1,3)) + beta_2*Delta(x - Rational(2,3)) + beta_3*Delta(x - Rational(3,3)))"
     ],
     "language": "python",
     "metadata": {},
     "outputs": [
      {
       "latex": [
        "$$w = \\beta_{1} \\Delta{\\left (x - \\frac{1}{3} \\right )} + \\beta_{2} \\Delta{\\left (x - \\frac{2}{3} \\right )} + \\beta_{3} \\Delta{\\left (x - 1 \\right )}$$"
       ],
       "metadata": {},
       "output_type": "pyout",
       "png": "[encoded data removed]",
       "prompt_number": 384,
       "text": [
        "w = \u03b2\u2081\u22c5\u0394(x - 1/3) + \u03b2\u2082\u22c5\u0394(x - 2/3) + \u03b2\u2083\u22c5\u0394(x - 1)"
       ]
      }
     ],
     "prompt_number": 384
    },
    {
     "cell_type": "code",
     "collapsed": false,
     "input": [
      "Eq(Integral(R(x)*w(x), (x, 0, 1)))"
     ],
     "language": "python",
     "metadata": {},
     "outputs": [
      {
       "latex": [
        "$$\\int_{0}^{1} R{\\left (x \\right )} w{\\left (x \\right )}\\, dx = 0$$"
       ],
       "metadata": {},
       "output_type": "pyout",
       "png": "[encoded data removed]",
       "prompt_number": 385,
       "text": [
        "1                 \n",
        "\u2320                 \n",
        "\u23ae R(x)\u22c5w(x) dx = 0\n",
        "\u2321                 \n",
        "0                 "
       ]
      }
     ],
     "prompt_number": 385
    },
    {
     "cell_type": "code",
     "collapsed": false,
     "input": [
      "Eq(R(x))"
     ],
     "language": "python",
     "metadata": {},
     "outputs": [
      {
       "latex": [
        "$$R{\\left (x \\right )} = 0$$"
       ],
       "metadata": {},
       "output_type": "pyout",
       "png": "[encoded data removed]",
       "prompt_number": 386,
       "text": [
        "R(x) = 0"
       ]
      }
     ],
     "prompt_number": 386
    },
    {
     "cell_type": "code",
     "collapsed": false,
     "input": [
      "{Eq(x, Rational(1,3)), Eq(x, Rational(2,3)), Eq(x, Rational(3,3))}"
     ],
     "language": "python",
     "metadata": {},
     "outputs": [
      {
       "latex": [
        "$$\\left\\{x = \\frac{1}{3}, x = \\frac{2}{3}, x = 1\\right\\}$$"
       ],
       "metadata": {},
       "output_type": "pyout",
       "png": "[encoded data removed]",
       "prompt_number": 387,
       "text": [
        "set([x = 1/3, x = 2/3, x = 1])"
       ]
      }
     ],
     "prompt_number": 387
    },
    {
     "cell_type": "code",
     "collapsed": false,
     "input": [
      "Eq(Eq(R(Rational(1,3)), Rf.subs(x, Rational(1,3))))"
     ],
     "language": "python",
     "metadata": {},
     "outputs": [
      {
       "latex": [
        "$$R{\\left (\\frac{1}{3} \\right )} = - \\frac{22 \\alpha_{1}}{9} - \\frac{16 \\alpha_{2}}{27} + \\frac{26 \\alpha_{3}}{81} = 0$$"
       ],
       "metadata": {},
       "output_type": "pyout",
       "png": "[encoded data removed]",
       "prompt_number": 388,
       "text": [
        "           22\u22c5\u03b1\u2081   16\u22c5\u03b1\u2082   26\u22c5\u03b1\u2083    \n",
        "R(1/3) = - \u2500\u2500\u2500\u2500\u2500 - \u2500\u2500\u2500\u2500\u2500 + \u2500\u2500\u2500\u2500\u2500 = 0\n",
        "             9       27      81     "
       ]
      }
     ],
     "prompt_number": 388
    },
    {
     "cell_type": "code",
     "collapsed": false,
     "input": [
      "Eq(Eq(R(Rational(2,3)), Rf.subs(x, Rational(2,3))))"
     ],
     "language": "python",
     "metadata": {},
     "outputs": [
      {
       "latex": [
        "$$R{\\left (\\frac{2}{3} \\right )} = - \\frac{10 \\alpha_{1}}{9} - \\frac{50 \\alpha_{2}}{27} - \\frac{124 \\alpha_{3}}{81} = 0$$"
       ],
       "metadata": {},
       "output_type": "pyout",
       "png": "[encoded data removed]",
       "prompt_number": 389,
       "text": [
        "           10\u22c5\u03b1\u2081   50\u22c5\u03b1\u2082   124\u22c5\u03b1\u2083    \n",
        "R(2/3) = - \u2500\u2500\u2500\u2500\u2500 - \u2500\u2500\u2500\u2500\u2500 - \u2500\u2500\u2500\u2500\u2500\u2500 = 0\n",
        "             9       27      81      "
       ]
      }
     ],
     "prompt_number": 389
    },
    {
     "cell_type": "code",
     "collapsed": false,
     "input": [
      "Eq(Eq(R(Rational(3,3)), Rf.subs(x, Rational(3,3))))"
     ],
     "language": "python",
     "metadata": {},
     "outputs": [
      {
       "latex": [
        "$$R{\\left (1 \\right )} = - 2 \\alpha_{2} - 4 \\alpha_{3} = 0$$"
       ],
       "metadata": {},
       "output_type": "pyout",
       "png": "[encoded data removed]",
       "prompt_number": 390,
       "text": [
        "R(1) = -2\u22c5\u03b1\u2082 - 4\u22c5\u03b1\u2083 = 0"
       ]
      }
     ],
     "prompt_number": 390
    },
    {
     "cell_type": "code",
     "collapsed": false,
     "input": [
      "A = Matrix([[Rational(-22,9), Rational(-16, 27), Rational(26,81)], \n",
      "           [Rational(-10,9), Rational(-50, 27), Rational(-124,81)],\n",
      "           [0, Rational(-2, 1), Rational(-4,1)]])"
     ],
     "language": "python",
     "metadata": {},
     "outputs": [],
     "prompt_number": 391
    },
    {
     "cell_type": "code",
     "collapsed": false,
     "input": [
      "B = Matrix([Rational(5,3), Rational(4,3), 1])"
     ],
     "language": "python",
     "metadata": {},
     "outputs": [],
     "prompt_number": 392
    },
    {
     "cell_type": "code",
     "collapsed": false,
     "input": [
      "xx = Matrix([alpha_1, alpha_2, alpha_3])"
     ],
     "language": "python",
     "metadata": {},
     "outputs": [],
     "prompt_number": 393
    },
    {
     "cell_type": "code",
     "collapsed": false,
     "input": [
      "Eqf = Eq(A*xx, B)"
     ],
     "language": "python",
     "metadata": {},
     "outputs": [],
     "prompt_number": 394
    },
    {
     "cell_type": "code",
     "collapsed": false,
     "input": [
      "Eqf"
     ],
     "language": "python",
     "metadata": {},
     "outputs": [
      {
       "latex": [
        "$$\\left[\\begin{matrix}- \\frac{22 \\alpha_{1}}{9} - \\frac{16 \\alpha_{2}}{27} + \\frac{26 \\alpha_{3}}{81}\\\\- \\frac{10 \\alpha_{1}}{9} - \\frac{50 \\alpha_{2}}{27} - \\frac{124 \\alpha_{3}}{81}\\\\- 2 \\alpha_{2} - 4 \\alpha_{3}\\end{matrix}\\right] = \\left[\\begin{matrix}\\frac{5}{3}\\\\\\frac{4}{3}\\\\1\\end{matrix}\\right]$$"
       ],
       "metadata": {},
       "output_type": "pyout",
       "png": "[encoded data removed]",
       "prompt_number": 395,
       "text": [
        "\u23a1  22\u22c5\u03b1\u2081   16\u22c5\u03b1\u2082   26\u22c5\u03b1\u2083 \u23a4        \n",
        "\u23a2- \u2500\u2500\u2500\u2500\u2500 - \u2500\u2500\u2500\u2500\u2500 + \u2500\u2500\u2500\u2500\u2500 \u23a5 = \u23a15/3\u23a4\n",
        "\u23a2    9       27      81  \u23a5   \u23a2   \u23a5\n",
        "\u23a2                        \u23a5   \u23a24/3\u23a5\n",
        "\u23a2  10\u22c5\u03b1\u2081   50\u22c5\u03b1\u2082   124\u22c5\u03b1\u2083\u23a5   \u23a2   \u23a5\n",
        "\u23a2- \u2500\u2500\u2500\u2500\u2500 - \u2500\u2500\u2500\u2500\u2500 - \u2500\u2500\u2500\u2500\u2500\u2500\u23a5   \u23a3 1 \u23a6\n",
        "\u23a2    9       27      81  \u23a5        \n",
        "\u23a2                        \u23a5        \n",
        "\u23a3      -2\u22c5\u03b1\u2082 - 4\u22c5\u03b1\u2083      \u23a6        "
       ]
      }
     ],
     "prompt_number": 395
    },
    {
     "cell_type": "code",
     "collapsed": false,
     "input": [
      "solve(Eqf)"
     ],
     "language": "python",
     "metadata": {},
     "outputs": [
      {
       "latex": [
        "$$\\begin{bmatrix}\\begin{Bmatrix}\\alpha_{1} : - \\frac{2585}{3978}, & \\alpha_{2} : - \\frac{93}{442}, & \\alpha_{3} : - \\frac{32}{221}\\end{Bmatrix}\\end{bmatrix}$$"
       ],
       "metadata": {},
       "output_type": "pyout",
       "png": "[encoded data removed]",
       "prompt_number": 396,
       "text": [
        "\u23a1\u23a7    -2585       -93       -32 \u23ab\u23a4\n",
        "\u23a2\u23a8\u03b1\u2081: \u2500\u2500\u2500\u2500\u2500\u2500, \u03b1\u2082: \u2500\u2500\u2500\u2500, \u03b1\u2083: \u2500\u2500\u2500\u2500\u23ac\u23a5\n",
        "\u23a3\u23a9     3978       442       221 \u23ad\u23a6"
       ]
      }
     ],
     "prompt_number": 396
    },
    {
     "cell_type": "code",
     "collapsed": false,
     "input": [
      "Uf"
     ],
     "language": "python",
     "metadata": {},
     "outputs": [
      {
       "latex": [
        "$$x \\left(- x + 1\\right) \\left(\\alpha_{1} + \\alpha_{2} x + \\alpha_{3} x^{2}\\right)$$"
       ],
       "metadata": {},
       "output_type": "pyout",
       "png": "[encoded data removed]",
       "prompt_number": 397,
       "text": [
        "           \u239b                2\u239e\n",
        "x\u22c5(-x + 1)\u22c5\u239d\u03b1\u2081 + \u03b1\u2082\u22c5x + \u03b1\u2083\u22c5x \u23a0"
       ]
      }
     ],
     "prompt_number": 397
    },
    {
     "cell_type": "code",
     "collapsed": false,
     "input": [
      "Uf_particular = Uf.subs(solve(Eqf)[0])"
     ],
     "language": "python",
     "metadata": {},
     "outputs": [],
     "prompt_number": 398
    },
    {
     "cell_type": "code",
     "collapsed": false,
     "input": [
      "Eq(U(x), Uf_particular)"
     ],
     "language": "python",
     "metadata": {},
     "outputs": [
      {
       "latex": [
        "$$U{\\left (x \\right )} = x \\left(- x + 1\\right) \\left(- \\frac{32 x^{2}}{221} - \\frac{93 x}{442} - \\frac{2585}{3978}\\right)$$"
       ],
       "metadata": {},
       "output_type": "pyout",
       "png": "[encoded data removed]",
       "prompt_number": 399,
       "text": [
        "                  \u239b      2              \u239e\n",
        "                  \u239c  32\u22c5x    93\u22c5x   2585\u239f\n",
        "U(x) = x\u22c5(-x + 1)\u22c5\u239c- \u2500\u2500\u2500\u2500\u2500 - \u2500\u2500\u2500\u2500 - \u2500\u2500\u2500\u2500\u239f\n",
        "                  \u239d   221    442    3978\u23a0"
       ]
      }
     ],
     "prompt_number": 399
    },
    {
     "cell_type": "code",
     "collapsed": false,
     "input": [
      "Uf_particular.subs(x, Rational(3,3))"
     ],
     "language": "python",
     "metadata": {},
     "outputs": [
      {
       "latex": [
        "$$0$$"
       ],
       "metadata": {},
       "output_type": "pyout",
       "png": "[encoded data removed]",
       "prompt_number": 400,
       "text": [
        "0"
       ]
      }
     ],
     "prompt_number": 400
    },
    {
     "cell_type": "code",
     "collapsed": false,
     "input": [
      "solucao_particular.subs(x, Rational(3,3))"
     ],
     "language": "python",
     "metadata": {},
     "outputs": [
      {
       "latex": [
        "$$f{\\left (1 \\right )} = \\frac{1}{2} \\cos{\\left (1 \\right )} + 0.2685 e$$"
       ],
       "metadata": {},
       "output_type": "pyout",
       "png": "[encoded data removed]",
       "prompt_number": 401,
       "text": [
        "       cos(1)           \n",
        "f(1) = \u2500\u2500\u2500\u2500\u2500\u2500 + 0.2685\u22c5\u212f\n",
        "         2              "
       ]
      }
     ],
     "prompt_number": 401
    },
    {
     "cell_type": "code",
     "collapsed": false,
     "input": [
      "solucao_particular"
     ],
     "language": "python",
     "metadata": {},
     "outputs": [
      {
       "latex": [
        "$$f{\\left (x \\right )} = \\left(0.7685 x - \\frac{1}{2}\\right) e^{x} + \\frac{1}{2} \\cos{\\left (x \\right )}$$"
       ],
       "metadata": {},
       "output_type": "pyout",
       "png": "[encoded data removed]",
       "prompt_number": 402,
       "text": [
        "                         x   cos(x)\n",
        "f(x) = (0.7685\u22c5x - 1/2)\u22c5\u212f  + \u2500\u2500\u2500\u2500\u2500\u2500\n",
        "                               2   "
       ]
      }
     ],
     "prompt_number": 402
    },
    {
     "cell_type": "code",
     "collapsed": false,
     "input": [],
     "language": "python",
     "metadata": {},
     "outputs": [],
     "prompt_number": 402
    }
   ],
   "metadata": {}
  }
 ]
}